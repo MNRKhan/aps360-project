{
  "nbformat": 4,
  "nbformat_minor": 0,
  "metadata": {
    "colab": {
      "name": "train_vgg19_bn_leaky.ipynb",
      "version": "0.3.2",
      "provenance": [],
      "collapsed_sections": []
    },
    "kernelspec": {
      "name": "python3",
      "display_name": "Python 3"
    },
    "accelerator": "GPU"
  },
  "cells": [
    {
      "metadata": {
        "id": "Wx3nOpUi02-L",
        "colab_type": "code",
        "colab": {
          "base_uri": "https://localhost:8080/",
          "height": 2193
        },
        "outputId": "6df9451d-42f1-48c2-918e-084fa8c01bc0"
      },
      "cell_type": "code",
      "source": [
        "!wget https://github.com/MNRKhan/aps360-project/raw/master/modules/cleaning.py\n",
        "!wget https://github.com/MNRKhan/aps360-project/raw/master/modules/data_loader.py\n",
        "!wget https://github.com/MNRKhan/aps360-project/raw/master/modules/extractNet_connected.py\n",
        "!wget https://github.com/MNRKhan/aps360-project/raw/master/modules/extractNet_connected_vgg19_bn_leaky.py   \n",
        "!wget https://github.com/MNRKhan/aps360-project/raw/master/modules/helper.py\n",
        "!wget https://github.com/MNRKhan/aps360-project/raw/master/modules/metrics.py\n",
        "!wget https://github.com/MNRKhan/aps360-project/raw/master/modules/trainer.py\n",
        "!wget https://github.com/MNRKhan/aps360-project/raw/master/modules/visualizer.py"
      ],
      "execution_count": 1,
      "outputs": [
        {
          "output_type": "stream",
          "text": [
            "--2019-03-28 10:53:21--  https://github.com/MNRKhan/aps360-project/raw/master/modules/cleaning.py\n",
            "Resolving github.com (github.com)... 192.30.253.113, 192.30.253.112\n",
            "Connecting to github.com (github.com)|192.30.253.113|:443... connected.\n",
            "HTTP request sent, awaiting response... 302 Found\n",
            "Location: https://raw.githubusercontent.com/MNRKhan/aps360-project/master/modules/cleaning.py [following]\n",
            "--2019-03-28 10:53:22--  https://raw.githubusercontent.com/MNRKhan/aps360-project/master/modules/cleaning.py\n",
            "Resolving raw.githubusercontent.com (raw.githubusercontent.com)... 151.101.0.133, 151.101.64.133, 151.101.128.133, ...\n",
            "Connecting to raw.githubusercontent.com (raw.githubusercontent.com)|151.101.0.133|:443... connected.\n",
            "HTTP request sent, awaiting response... 200 OK\n",
            "Length: 8263 (8.1K) [text/plain]\n",
            "Saving to: ‘cleaning.py’\n",
            "\n",
            "cleaning.py         100%[===================>]   8.07K  --.-KB/s    in 0s      \n",
            "\n",
            "2019-03-28 10:53:22 (102 MB/s) - ‘cleaning.py’ saved [8263/8263]\n",
            "\n",
            "--2019-03-28 10:53:24--  https://github.com/MNRKhan/aps360-project/raw/master/modules/data_loader.py\n",
            "Resolving github.com (github.com)... 192.30.253.112, 192.30.253.113\n",
            "Connecting to github.com (github.com)|192.30.253.112|:443... connected.\n",
            "HTTP request sent, awaiting response... 302 Found\n",
            "Location: https://raw.githubusercontent.com/MNRKhan/aps360-project/master/modules/data_loader.py [following]\n",
            "--2019-03-28 10:53:24--  https://raw.githubusercontent.com/MNRKhan/aps360-project/master/modules/data_loader.py\n",
            "Resolving raw.githubusercontent.com (raw.githubusercontent.com)... 151.101.0.133, 151.101.64.133, 151.101.128.133, ...\n",
            "Connecting to raw.githubusercontent.com (raw.githubusercontent.com)|151.101.0.133|:443... connected.\n",
            "HTTP request sent, awaiting response... 200 OK\n",
            "Length: 1762 (1.7K) [text/plain]\n",
            "Saving to: ‘data_loader.py’\n",
            "\n",
            "data_loader.py      100%[===================>]   1.72K  --.-KB/s    in 0s      \n",
            "\n",
            "2019-03-28 10:53:25 (217 MB/s) - ‘data_loader.py’ saved [1762/1762]\n",
            "\n",
            "--2019-03-28 10:53:26--  https://github.com/MNRKhan/aps360-project/raw/master/modules/extractNet_connected.py\n",
            "Resolving github.com (github.com)... 192.30.253.112, 192.30.253.113\n",
            "Connecting to github.com (github.com)|192.30.253.112|:443... connected.\n",
            "HTTP request sent, awaiting response... 302 Found\n",
            "Location: https://raw.githubusercontent.com/MNRKhan/aps360-project/master/modules/extractNet_connected.py [following]\n",
            "--2019-03-28 10:53:27--  https://raw.githubusercontent.com/MNRKhan/aps360-project/master/modules/extractNet_connected.py\n",
            "Resolving raw.githubusercontent.com (raw.githubusercontent.com)... 151.101.0.133, 151.101.64.133, 151.101.128.133, ...\n",
            "Connecting to raw.githubusercontent.com (raw.githubusercontent.com)|151.101.0.133|:443... connected.\n",
            "HTTP request sent, awaiting response... 200 OK\n",
            "Length: 983 [text/plain]\n",
            "Saving to: ‘extractNet_connected.py’\n",
            "\n",
            "extractNet_connecte 100%[===================>]     983  --.-KB/s    in 0s      \n",
            "\n",
            "2019-03-28 10:53:27 (115 MB/s) - ‘extractNet_connected.py’ saved [983/983]\n",
            "\n",
            "--2019-03-28 10:53:28--  https://github.com/MNRKhan/aps360-project/raw/master/modules/extractNet_connected_vgg19_bn_leaky.py\n",
            "Resolving github.com (github.com)... 192.30.253.112, 192.30.253.113\n",
            "Connecting to github.com (github.com)|192.30.253.112|:443... connected.\n",
            "HTTP request sent, awaiting response... 302 Found\n",
            "Location: https://raw.githubusercontent.com/MNRKhan/aps360-project/master/modules/extractNet_connected_vgg19_bn_leaky.py [following]\n",
            "--2019-03-28 10:53:29--  https://raw.githubusercontent.com/MNRKhan/aps360-project/master/modules/extractNet_connected_vgg19_bn_leaky.py\n",
            "Resolving raw.githubusercontent.com (raw.githubusercontent.com)... 151.101.0.133, 151.101.64.133, 151.101.128.133, ...\n",
            "Connecting to raw.githubusercontent.com (raw.githubusercontent.com)|151.101.0.133|:443... connected.\n",
            "HTTP request sent, awaiting response... 200 OK\n",
            "Length: 1984 (1.9K) [text/plain]\n",
            "Saving to: ‘extractNet_connected_vgg19_bn_leaky.py’\n",
            "\n",
            "extractNet_connecte 100%[===================>]   1.94K  --.-KB/s    in 0s      \n",
            "\n",
            "2019-03-28 10:53:29 (36.6 MB/s) - ‘extractNet_connected_vgg19_bn_leaky.py’ saved [1984/1984]\n",
            "\n",
            "--2019-03-28 10:53:30--  https://github.com/MNRKhan/aps360-project/raw/master/modules/helper.py\n",
            "Resolving github.com (github.com)... 192.30.253.112, 192.30.253.113\n",
            "Connecting to github.com (github.com)|192.30.253.112|:443... connected.\n",
            "HTTP request sent, awaiting response... 302 Found\n",
            "Location: https://raw.githubusercontent.com/MNRKhan/aps360-project/master/modules/helper.py [following]\n",
            "--2019-03-28 10:53:31--  https://raw.githubusercontent.com/MNRKhan/aps360-project/master/modules/helper.py\n",
            "Resolving raw.githubusercontent.com (raw.githubusercontent.com)... 151.101.0.133, 151.101.64.133, 151.101.128.133, ...\n",
            "Connecting to raw.githubusercontent.com (raw.githubusercontent.com)|151.101.0.133|:443... connected.\n",
            "HTTP request sent, awaiting response... 200 OK\n",
            "Length: 191 [text/plain]\n",
            "Saving to: ‘helper.py’\n",
            "\n",
            "helper.py           100%[===================>]     191  --.-KB/s    in 0s      \n",
            "\n",
            "2019-03-28 10:53:31 (20.7 MB/s) - ‘helper.py’ saved [191/191]\n",
            "\n",
            "--2019-03-28 10:53:32--  https://github.com/MNRKhan/aps360-project/raw/master/modules/metrics.py\n",
            "Resolving github.com (github.com)... 192.30.253.112, 192.30.253.113\n",
            "Connecting to github.com (github.com)|192.30.253.112|:443... connected.\n",
            "HTTP request sent, awaiting response... 302 Found\n",
            "Location: https://raw.githubusercontent.com/MNRKhan/aps360-project/master/modules/metrics.py [following]\n",
            "--2019-03-28 10:53:33--  https://raw.githubusercontent.com/MNRKhan/aps360-project/master/modules/metrics.py\n",
            "Resolving raw.githubusercontent.com (raw.githubusercontent.com)... 151.101.0.133, 151.101.64.133, 151.101.128.133, ...\n",
            "Connecting to raw.githubusercontent.com (raw.githubusercontent.com)|151.101.0.133|:443... connected.\n",
            "HTTP request sent, awaiting response... 200 OK\n",
            "Length: 1695 (1.7K) [text/plain]\n",
            "Saving to: ‘metrics.py’\n",
            "\n",
            "metrics.py          100%[===================>]   1.66K  --.-KB/s    in 0s      \n",
            "\n",
            "2019-03-28 10:53:33 (284 MB/s) - ‘metrics.py’ saved [1695/1695]\n",
            "\n",
            "--2019-03-28 10:53:35--  https://github.com/MNRKhan/aps360-project/raw/master/modules/trainer.py\n",
            "Resolving github.com (github.com)... 192.30.253.112, 192.30.253.113\n",
            "Connecting to github.com (github.com)|192.30.253.112|:443... connected.\n",
            "HTTP request sent, awaiting response... 302 Found\n",
            "Location: https://raw.githubusercontent.com/MNRKhan/aps360-project/master/modules/trainer.py [following]\n",
            "--2019-03-28 10:53:36--  https://raw.githubusercontent.com/MNRKhan/aps360-project/master/modules/trainer.py\n",
            "Resolving raw.githubusercontent.com (raw.githubusercontent.com)... 151.101.0.133, 151.101.64.133, 151.101.128.133, ...\n",
            "Connecting to raw.githubusercontent.com (raw.githubusercontent.com)|151.101.0.133|:443... connected.\n",
            "HTTP request sent, awaiting response... 200 OK\n",
            "Length: 3017 (2.9K) [text/plain]\n",
            "Saving to: ‘trainer.py’\n",
            "\n",
            "trainer.py          100%[===================>]   2.95K  --.-KB/s    in 0s      \n",
            "\n",
            "2019-03-28 10:53:36 (79.6 MB/s) - ‘trainer.py’ saved [3017/3017]\n",
            "\n",
            "--2019-03-28 10:53:37--  https://github.com/MNRKhan/aps360-project/raw/master/modules/visualizer.py\n",
            "Resolving github.com (github.com)... 192.30.253.112, 192.30.253.113\n",
            "Connecting to github.com (github.com)|192.30.253.112|:443... connected.\n",
            "HTTP request sent, awaiting response... 302 Found\n",
            "Location: https://raw.githubusercontent.com/MNRKhan/aps360-project/master/modules/visualizer.py [following]\n",
            "--2019-03-28 10:53:38--  https://raw.githubusercontent.com/MNRKhan/aps360-project/master/modules/visualizer.py\n",
            "Resolving raw.githubusercontent.com (raw.githubusercontent.com)... 151.101.0.133, 151.101.64.133, 151.101.128.133, ...\n",
            "Connecting to raw.githubusercontent.com (raw.githubusercontent.com)|151.101.0.133|:443... connected.\n",
            "HTTP request sent, awaiting response... 200 OK\n",
            "Length: 3385 (3.3K) [text/plain]\n",
            "Saving to: ‘visualizer.py’\n",
            "\n",
            "visualizer.py       100%[===================>]   3.31K  --.-KB/s    in 0s      \n",
            "\n",
            "2019-03-28 10:53:38 (75.5 MB/s) - ‘visualizer.py’ saved [3385/3385]\n",
            "\n"
          ],
          "name": "stdout"
        }
      ]
    },
    {
      "metadata": {
        "id": "mhDcfUAACinA",
        "colab_type": "code",
        "colab": {
          "base_uri": "https://localhost:8080/",
          "height": 289
        },
        "outputId": "efaf4982-9c54-421a-c22b-198894f87542"
      },
      "cell_type": "code",
      "source": [
        "!wget https://github.com/MNRKhan/aps360-project/raw/master/modules/extractNet_connected_vgg19_bn_leaky.py  "
      ],
      "execution_count": 19,
      "outputs": [
        {
          "output_type": "stream",
          "text": [
            "--2019-03-28 11:23:18--  https://github.com/MNRKhan/aps360-project/raw/master/modules/extractNet_connected_vgg19_bn_leaky.py\n",
            "Resolving github.com (github.com)... 192.30.253.112, 192.30.253.113\n",
            "Connecting to github.com (github.com)|192.30.253.112|:443... connected.\n",
            "HTTP request sent, awaiting response... 302 Found\n",
            "Location: https://raw.githubusercontent.com/MNRKhan/aps360-project/master/modules/extractNet_connected_vgg19_bn_leaky.py [following]\n",
            "--2019-03-28 11:23:19--  https://raw.githubusercontent.com/MNRKhan/aps360-project/master/modules/extractNet_connected_vgg19_bn_leaky.py\n",
            "Resolving raw.githubusercontent.com (raw.githubusercontent.com)... 151.101.0.133, 151.101.64.133, 151.101.128.133, ...\n",
            "Connecting to raw.githubusercontent.com (raw.githubusercontent.com)|151.101.0.133|:443... connected.\n",
            "HTTP request sent, awaiting response... 200 OK\n",
            "Length: 1924 (1.9K) [text/plain]\n",
            "Saving to: ‘extractNet_connected_vgg19_bn_leaky.py’\n",
            "\n",
            "extractNet_connecte 100%[===================>]   1.88K  --.-KB/s    in 0s      \n",
            "\n",
            "2019-03-28 11:23:19 (30.0 MB/s) - ‘extractNet_connected_vgg19_bn_leaky.py’ saved [1924/1924]\n",
            "\n"
          ],
          "name": "stdout"
        }
      ]
    },
    {
      "metadata": {
        "id": "SP_tolsT-7ZT",
        "colab_type": "code",
        "colab": {
          "base_uri": "https://localhost:8080/",
          "height": 289
        },
        "outputId": "6b8acb12-4a24-488a-d326-45f30838b522"
      },
      "cell_type": "code",
      "source": [
        "!wget https://github.com/MNRKhan/aps360-project/raw/master/modules/extractNet_connected_vgg19_bn.py "
      ],
      "execution_count": 11,
      "outputs": [
        {
          "output_type": "stream",
          "text": [
            "--2019-03-28 11:09:32--  https://github.com/MNRKhan/aps360-project/raw/master/modules/extractNet_connected_vgg19_bn.py\n",
            "Resolving github.com (github.com)... 192.30.253.113, 192.30.253.112\n",
            "Connecting to github.com (github.com)|192.30.253.113|:443... connected.\n",
            "HTTP request sent, awaiting response... 302 Found\n",
            "Location: https://raw.githubusercontent.com/MNRKhan/aps360-project/master/modules/extractNet_connected_vgg19_bn.py [following]\n",
            "--2019-03-28 11:09:33--  https://raw.githubusercontent.com/MNRKhan/aps360-project/master/modules/extractNet_connected_vgg19_bn.py\n",
            "Resolving raw.githubusercontent.com (raw.githubusercontent.com)... 151.101.0.133, 151.101.64.133, 151.101.128.133, ...\n",
            "Connecting to raw.githubusercontent.com (raw.githubusercontent.com)|151.101.0.133|:443... connected.\n",
            "HTTP request sent, awaiting response... 200 OK\n",
            "Length: 1827 (1.8K) [text/plain]\n",
            "Saving to: ‘extractNet_connected_vgg19_bn.py’\n",
            "\n",
            "extractNet_connecte 100%[===================>]   1.78K  --.-KB/s    in 0s      \n",
            "\n",
            "2019-03-28 11:09:33 (266 MB/s) - ‘extractNet_connected_vgg19_bn.py’ saved [1827/1827]\n",
            "\n"
          ],
          "name": "stdout"
        }
      ]
    },
    {
      "metadata": {
        "id": "dXCEOX-qCANF",
        "colab_type": "code",
        "colab": {}
      },
      "cell_type": "code",
      "source": [
        "import numpy as np\n",
        "import random\n",
        "import torch\n",
        "from torch.utils.data import DataLoader\n",
        "from torchvision import transforms\n",
        "\n",
        "from cleaning import *\n",
        "from data_loader import *\n",
        "from extractNet_connected_vgg19_bn_leaky import *\n",
        "from extractNet_connected_vgg19_bn import *\n",
        "from helper import *\n",
        "from metrics import *\n",
        "from trainer import *\n",
        "from visualizer import *"
      ],
      "execution_count": 0,
      "outputs": []
    },
    {
      "metadata": {
        "id": "-CsW_KtgBqTj",
        "colab_type": "code",
        "outputId": "c7bfce10-fc6c-4161-eab3-0d44a7aeb4de",
        "colab": {
          "base_uri": "https://localhost:8080/",
          "height": 8653
        }
      },
      "cell_type": "code",
      "source": [
        "!rm -rf __MACOSX\n",
        "!rm -rf *.zip\n",
        "!wget https://github.com/MNRKhan/aps360-project/raw/master/datasets/val2017/data_vehicle.zip\n",
        "!unzip data_vehicle.zip\n",
        "!rm -rf __MACOSX\n",
        "!rm -rf *.zip"
      ],
      "execution_count": 3,
      "outputs": [
        {
          "output_type": "stream",
          "text": [
            "--2019-03-28 10:53:53--  https://github.com/MNRKhan/aps360-project/raw/master/datasets/val2017/data_vehicle.zip\n",
            "Resolving github.com (github.com)... 192.30.253.112, 192.30.253.113\n",
            "Connecting to github.com (github.com)|192.30.253.112|:443... connected.\n",
            "HTTP request sent, awaiting response... 302 Found\n",
            "Location: https://raw.githubusercontent.com/MNRKhan/aps360-project/master/datasets/val2017/data_vehicle.zip [following]\n",
            "--2019-03-28 10:53:54--  https://raw.githubusercontent.com/MNRKhan/aps360-project/master/datasets/val2017/data_vehicle.zip\n",
            "Resolving raw.githubusercontent.com (raw.githubusercontent.com)... 151.101.0.133, 151.101.64.133, 151.101.128.133, ...\n",
            "Connecting to raw.githubusercontent.com (raw.githubusercontent.com)|151.101.0.133|:443... connected.\n",
            "HTTP request sent, awaiting response... 200 OK\n",
            "Length: 3815765 (3.6M) [application/zip]\n",
            "Saving to: ‘data_vehicle.zip’\n",
            "\n",
            "data_vehicle.zip    100%[===================>]   3.64M  --.-KB/s    in 0.1s    \n",
            "\n",
            "2019-03-28 10:53:55 (32.2 MB/s) - ‘data_vehicle.zip’ saved [3815765/3815765]\n",
            "\n",
            "Archive:  data_vehicle.zip\n",
            "   creating: data/\n",
            "   creating: data/images/\n",
            "  inflating: data/images/63.jpg      \n",
            "  inflating: data/images/189.jpg     \n",
            "  inflating: data/images/77.jpg      \n",
            "  inflating: data/images/162.jpg     \n",
            "  inflating: data/images/176.jpg     \n",
            "  inflating: data/images/88.jpg      \n",
            "  inflating: data/images/228.jpg     \n",
            "  inflating: data/images/214.jpg     \n",
            "  inflating: data/images/200.jpg     \n",
            "  inflating: data/images/201.jpg     \n",
            "  inflating: data/images/215.jpg     \n",
            "  inflating: data/images/229.jpg     \n",
            "  inflating: data/images/177.jpg     \n",
            "  inflating: data/images/89.jpg      \n",
            "  inflating: data/images/163.jpg     \n",
            "  inflating: data/images/188.jpg     \n",
            "  inflating: data/images/76.jpg      \n",
            "  inflating: data/images/62.jpg      \n",
            "  inflating: data/images/74.jpg      \n",
            "  inflating: data/images/60.jpg      \n",
            "  inflating: data/images/48.jpg      \n",
            "  inflating: data/images/149.jpg     \n",
            "  inflating: data/images/175.jpg     \n",
            "  inflating: data/images/161.jpg     \n",
            "  inflating: data/images/203.jpg     \n",
            "  inflating: data/images/217.jpg     \n",
            "  inflating: data/images/216.jpg     \n",
            "  inflating: data/images/202.jpg     \n",
            "  inflating: data/images/160.jpg     \n",
            "  inflating: data/images/174.jpg     \n",
            "  inflating: data/images/148.jpg     \n",
            "  inflating: data/images/49.jpg      \n",
            "  inflating: data/images/61.jpg      \n",
            "  inflating: data/images/75.jpg      \n",
            "  inflating: data/images/59.jpg      \n",
            "  inflating: data/images/71.jpg      \n",
            "  inflating: data/images/65.jpg      \n",
            "  inflating: data/images/170.jpg     \n",
            "  inflating: data/images/164.jpg     \n",
            "  inflating: data/images/158.jpg     \n",
            "  inflating: data/images/206.jpg     \n",
            "  inflating: data/images/212.jpg     \n",
            "  inflating: data/images/213.jpg     \n",
            "  inflating: data/images/207.jpg     \n",
            "  inflating: data/images/159.jpg     \n",
            "  inflating: data/images/165.jpg     \n",
            "  inflating: data/images/171.jpg     \n",
            "  inflating: data/images/64.jpg      \n",
            "  inflating: data/images/70.jpg      \n",
            "  inflating: data/images/58.jpg      \n",
            "  inflating: data/images/8.jpg       \n",
            "  inflating: data/images/198.jpg     \n",
            "  inflating: data/images/66.jpg      \n",
            "  inflating: data/images/72.jpg      \n",
            "  inflating: data/images/167.jpg     \n",
            "  inflating: data/images/99.jpg      \n",
            "  inflating: data/images/173.jpg     \n",
            "  inflating: data/images/211.jpg     \n",
            "  inflating: data/images/205.jpg     \n",
            "  inflating: data/images/239.jpg     \n",
            "  inflating: data/images/238.jpg     \n",
            "  inflating: data/images/204.jpg     \n",
            "  inflating: data/images/210.jpg     \n",
            "  inflating: data/images/172.jpg     \n",
            "  inflating: data/images/166.jpg     \n",
            "  inflating: data/images/98.jpg      \n",
            "  inflating: data/images/73.jpg      \n",
            "  inflating: data/images/199.jpg     \n",
            "  inflating: data/images/67.jpg      \n",
            "  inflating: data/images/9.jpg       \n",
            "  inflating: data/images/14.jpg      \n",
            "  inflating: data/images/28.jpg      \n",
            "  inflating: data/images/129.jpg     \n",
            "  inflating: data/images/101.jpg     \n",
            "  inflating: data/images/115.jpg     \n",
            "  inflating: data/images/114.jpg     \n",
            "  inflating: data/images/100.jpg     \n",
            "  inflating: data/images/128.jpg     \n",
            "  inflating: data/images/29.jpg      \n",
            "  inflating: data/images/15.jpg      \n",
            "  inflating: data/images/17.jpg      \n",
            "  inflating: data/images/116.jpg     \n",
            "  inflating: data/images/102.jpg     \n",
            "  inflating: data/images/103.jpg     \n",
            "  inflating: data/images/117.jpg     \n",
            "  inflating: data/images/16.jpg      \n",
            "  inflating: data/images/12.jpg      \n",
            "  inflating: data/images/113.jpg     \n",
            "  inflating: data/images/107.jpg     \n",
            "  inflating: data/images/106.jpg     \n",
            "  inflating: data/images/112.jpg     \n",
            "  inflating: data/images/13.jpg      \n",
            "  inflating: data/images/39.jpg      \n",
            "  inflating: data/images/11.jpg      \n",
            "  inflating: data/images/104.jpg     \n",
            "  inflating: data/images/110.jpg     \n",
            "  inflating: data/images/138.jpg     \n",
            "  inflating: data/images/139.jpg     \n",
            "  inflating: data/images/111.jpg     \n",
            "  inflating: data/images/105.jpg     \n",
            "  inflating: data/images/10.jpg      \n",
            "  inflating: data/images/38.jpg      \n",
            "  inflating: data/images/21.jpg      \n",
            "  inflating: data/images/35.jpg      \n",
            "  inflating: data/images/108.jpg     \n",
            "  inflating: data/images/120.jpg     \n",
            "  inflating: data/images/134.jpg     \n",
            "  inflating: data/images/242.jpg     \n",
            "  inflating: data/images/243.jpg     \n",
            "  inflating: data/images/135.jpg     \n",
            "  inflating: data/images/121.jpg     \n",
            "  inflating: data/images/109.jpg     \n",
            "  inflating: data/images/34.jpg      \n",
            "  inflating: data/images/20.jpg      \n",
            "  inflating: data/images/36.jpg      \n",
            "  inflating: data/images/22.jpg      \n",
            "  inflating: data/images/137.jpg     \n",
            "  inflating: data/images/123.jpg     \n",
            "  inflating: data/images/241.jpg     \n",
            "  inflating: data/images/240.jpg     \n",
            "  inflating: data/images/122.jpg     \n",
            "  inflating: data/images/136.jpg     \n",
            "  inflating: data/images/23.jpg      \n",
            "  inflating: data/images/37.jpg      \n",
            "  inflating: data/images/33.jpg      \n",
            "  inflating: data/images/27.jpg      \n",
            "  inflating: data/images/132.jpg     \n",
            "  inflating: data/images/126.jpg     \n",
            "  inflating: data/images/127.jpg     \n",
            "  inflating: data/images/133.jpg     \n",
            "  inflating: data/images/26.jpg      \n",
            "  inflating: data/images/32.jpg      \n",
            "  inflating: data/images/18.jpg      \n",
            "  inflating: data/images/24.jpg      \n",
            "  inflating: data/images/30.jpg      \n",
            "  inflating: data/images/125.jpg     \n",
            "  inflating: data/images/131.jpg     \n",
            "  inflating: data/images/119.jpg     \n",
            "  inflating: data/images/118.jpg     \n",
            "  inflating: data/images/130.jpg     \n",
            "  inflating: data/images/124.jpg     \n",
            "  inflating: data/images/31.jpg      \n",
            "  inflating: data/images/25.jpg      \n",
            "  inflating: data/images/19.jpg      \n",
            "  inflating: data/images/42.jpg      \n",
            "  inflating: data/images/4.jpg       \n",
            "  inflating: data/images/56.jpg      \n",
            "  inflating: data/images/180.jpg     \n",
            "  inflating: data/images/194.jpg     \n",
            "  inflating: data/images/81.jpg      \n",
            "  inflating: data/images/95.jpg      \n",
            "  inflating: data/images/143.jpg     \n",
            "  inflating: data/images/157.jpg     \n",
            "  inflating: data/images/209.jpg     \n",
            "  inflating: data/images/235.jpg     \n",
            "  inflating: data/images/221.jpg     \n",
            "  inflating: data/images/220.jpg     \n",
            "  inflating: data/images/234.jpg     \n",
            "  inflating: data/images/208.jpg     \n",
            "  inflating: data/images/156.jpg     \n",
            "  inflating: data/images/142.jpg     \n",
            "  inflating: data/images/94.jpg      \n",
            "  inflating: data/images/80.jpg      \n",
            "  inflating: data/images/195.jpg     \n",
            "  inflating: data/images/181.jpg     \n",
            "  inflating: data/images/5.jpg       \n",
            "  inflating: data/images/57.jpg      \n",
            "  inflating: data/images/43.jpg      \n",
            "  inflating: data/images/55.jpg      \n",
            "  inflating: data/images/7.jpg       \n",
            "  inflating: data/images/41.jpg      \n",
            "  inflating: data/images/69.jpg      \n",
            "  inflating: data/images/197.jpg     \n",
            "  inflating: data/images/183.jpg     \n",
            "  inflating: data/images/96.jpg      \n",
            "  inflating: data/images/168.jpg     \n",
            "  inflating: data/images/82.jpg      \n",
            "  inflating: data/images/154.jpg     \n",
            "  inflating: data/images/140.jpg     \n",
            "  inflating: data/images/222.jpg     \n",
            "  inflating: data/images/236.jpg     \n",
            "  inflating: data/images/237.jpg     \n",
            "  inflating: data/images/223.jpg     \n",
            "  inflating: data/images/141.jpg     \n",
            "  inflating: data/images/155.jpg     \n",
            "  inflating: data/images/83.jpg      \n",
            "  inflating: data/images/97.jpg      \n",
            "  inflating: data/images/169.jpg     \n",
            "  inflating: data/images/182.jpg     \n",
            "  inflating: data/images/68.jpg      \n",
            "  inflating: data/images/196.jpg     \n",
            "  inflating: data/images/40.jpg      \n",
            "  inflating: data/images/54.jpg      \n",
            "  inflating: data/images/6.jpg       \n",
            "  inflating: data/images/192.jpg     \n",
            "  inflating: data/images/78.jpg      \n",
            "  inflating: data/images/186.jpg     \n",
            "  inflating: data/images/2.jpg       \n",
            "  inflating: data/images/50.jpg      \n",
            "  inflating: data/images/44.jpg      \n",
            "  inflating: data/images/151.jpg     \n",
            "  inflating: data/images/145.jpg     \n",
            "  inflating: data/images/93.jpg      \n",
            "  inflating: data/images/87.jpg      \n",
            "  inflating: data/images/179.jpg     \n",
            "  inflating: data/images/227.jpg     \n",
            "  inflating: data/images/233.jpg     \n",
            "  inflating: data/images/232.jpg     \n",
            "  inflating: data/images/226.jpg     \n",
            "  inflating: data/images/86.jpg      \n",
            "  inflating: data/images/178.jpg     \n",
            "  inflating: data/images/92.jpg      \n",
            "  inflating: data/images/144.jpg     \n",
            "  inflating: data/images/150.jpg     \n",
            "  inflating: data/images/45.jpg      \n",
            "  inflating: data/images/3.jpg       \n",
            "  inflating: data/images/51.jpg      \n",
            "  inflating: data/images/79.jpg      \n",
            "  inflating: data/images/187.jpg     \n",
            "  inflating: data/images/193.jpg     \n",
            "  inflating: data/images/185.jpg     \n",
            "  inflating: data/images/191.jpg     \n",
            "  inflating: data/images/47.jpg      \n",
            "  inflating: data/images/53.jpg      \n",
            "  inflating: data/images/1.jpg       \n",
            "  inflating: data/images/146.jpg     \n",
            "  inflating: data/images/152.jpg     \n",
            "  inflating: data/images/84.jpg      \n",
            "  inflating: data/images/90.jpg      \n",
            "  inflating: data/images/230.jpg     \n",
            "  inflating: data/images/224.jpg     \n",
            "  inflating: data/images/218.jpg     \n",
            "  inflating: data/images/219.jpg     \n",
            "  inflating: data/images/225.jpg     \n",
            "  inflating: data/images/231.jpg     \n",
            "  inflating: data/images/91.jpg      \n",
            "  inflating: data/images/85.jpg      \n",
            "  inflating: data/images/153.jpg     \n",
            "  inflating: data/images/147.jpg     \n",
            "  inflating: data/images/52.jpg      \n",
            "  inflating: data/images/0.jpg       \n",
            "  inflating: data/images/46.jpg      \n",
            "  inflating: data/images/190.jpg     \n",
            "  inflating: data/images/184.jpg     \n",
            "   creating: data/masks/\n",
            "  inflating: data/masks/243.npy      \n",
            "  inflating: data/masks/121.npy      \n",
            "  inflating: data/masks/135.npy      \n",
            "  inflating: data/masks/109.npy      \n",
            "  inflating: data/masks/20.npy       \n",
            "  inflating: data/masks/34.npy       \n",
            "  inflating: data/masks/35.npy       \n",
            "  inflating: data/masks/21.npy       \n",
            "  inflating: data/masks/108.npy      \n",
            "  inflating: data/masks/134.npy      \n",
            "  inflating: data/masks/120.npy      \n",
            "  inflating: data/masks/242.npy      \n",
            "  inflating: data/masks/240.npy      \n",
            "  inflating: data/masks/136.npy      \n",
            "  inflating: data/masks/122.npy      \n",
            "  inflating: data/masks/37.npy       \n",
            "  inflating: data/masks/23.npy       \n",
            "  inflating: data/masks/22.npy       \n",
            "  inflating: data/masks/36.npy       \n",
            "  inflating: data/masks/123.npy      \n",
            "  inflating: data/masks/137.npy      \n",
            "  inflating: data/masks/241.npy      \n",
            "  inflating: data/masks/133.npy      \n",
            "  inflating: data/masks/127.npy      \n",
            "  inflating: data/masks/32.npy       \n",
            "  inflating: data/masks/26.npy       \n",
            "  inflating: data/masks/27.npy       \n",
            "  inflating: data/masks/33.npy       \n",
            "  inflating: data/masks/126.npy      \n",
            "  inflating: data/masks/132.npy      \n",
            "  inflating: data/masks/118.npy      \n",
            "  inflating: data/masks/124.npy      \n",
            "  inflating: data/masks/130.npy      \n",
            "  inflating: data/masks/25.npy       \n",
            "  inflating: data/masks/31.npy       \n",
            "  inflating: data/masks/19.npy       \n",
            "  inflating: data/masks/18.npy       \n",
            "  inflating: data/masks/30.npy       \n",
            "  inflating: data/masks/24.npy       \n",
            "  inflating: data/masks/131.npy      \n",
            "  inflating: data/masks/125.npy      \n",
            "  inflating: data/masks/119.npy      \n",
            "  inflating: data/masks/234.npy      \n",
            "  inflating: data/masks/220.npy      \n",
            "  inflating: data/masks/208.npy      \n",
            "  inflating: data/masks/142.npy      \n",
            "  inflating: data/masks/156.npy      \n",
            "  inflating: data/masks/80.npy       \n",
            "  inflating: data/masks/94.npy       \n",
            "  inflating: data/masks/181.npy      \n",
            "  inflating: data/masks/195.npy      \n",
            "  inflating: data/masks/43.npy       \n",
            "  inflating: data/masks/5.npy        \n",
            "  inflating: data/masks/57.npy       \n",
            "  inflating: data/masks/4.npy        \n",
            "  inflating: data/masks/56.npy       \n",
            "  inflating: data/masks/42.npy       \n",
            "  inflating: data/masks/194.npy      \n",
            "  inflating: data/masks/180.npy      \n",
            "  inflating: data/masks/95.npy       \n",
            "  inflating: data/masks/81.npy       \n",
            "  inflating: data/masks/157.npy      \n",
            "  inflating: data/masks/143.npy      \n",
            "  inflating: data/masks/209.npy      \n",
            "  inflating: data/masks/221.npy      \n",
            "  inflating: data/masks/235.npy      \n",
            "  inflating: data/masks/223.npy      \n",
            "  inflating: data/masks/237.npy      \n",
            "  inflating: data/masks/155.npy      \n",
            "  inflating: data/masks/141.npy      \n",
            "  inflating: data/masks/97.npy       \n",
            "  inflating: data/masks/169.npy      \n",
            "  inflating: data/masks/83.npy       \n",
            "  inflating: data/masks/68.npy       \n",
            "  inflating: data/masks/196.npy      \n",
            "  inflating: data/masks/182.npy      \n",
            "  inflating: data/masks/54.npy       \n",
            "  inflating: data/masks/6.npy        \n",
            "  inflating: data/masks/40.npy       \n",
            "  inflating: data/masks/41.npy       \n",
            "  inflating: data/masks/55.npy       \n",
            "  inflating: data/masks/7.npy        \n",
            "  inflating: data/masks/183.npy      \n",
            "  inflating: data/masks/69.npy       \n",
            "  inflating: data/masks/197.npy      \n",
            "  inflating: data/masks/82.npy       \n",
            "  inflating: data/masks/96.npy       \n",
            "  inflating: data/masks/168.npy      \n",
            "  inflating: data/masks/140.npy      \n",
            "  inflating: data/masks/154.npy      \n",
            "  inflating: data/masks/236.npy      \n",
            "  inflating: data/masks/222.npy      \n",
            "  inflating: data/masks/226.npy      \n",
            "  inflating: data/masks/232.npy      \n",
            "  inflating: data/masks/92.npy       \n",
            "  inflating: data/masks/86.npy       \n",
            "  inflating: data/masks/178.npy      \n",
            "  inflating: data/masks/150.npy      \n",
            "  inflating: data/masks/144.npy      \n",
            "  inflating: data/masks/3.npy        \n",
            "  inflating: data/masks/51.npy       \n",
            "  inflating: data/masks/45.npy       \n",
            "  inflating: data/masks/193.npy      \n",
            "  inflating: data/masks/79.npy       \n",
            "  inflating: data/masks/187.npy      \n",
            "  inflating: data/masks/78.npy       \n",
            "  inflating: data/masks/186.npy      \n",
            "  inflating: data/masks/192.npy      \n",
            "  inflating: data/masks/44.npy       \n",
            "  inflating: data/masks/2.npy        \n",
            "  inflating: data/masks/50.npy       \n",
            "  inflating: data/masks/145.npy      \n",
            "  inflating: data/masks/151.npy      \n",
            "  inflating: data/masks/87.npy       \n",
            "  inflating: data/masks/179.npy      \n",
            "  inflating: data/masks/93.npy       \n",
            "  inflating: data/masks/233.npy      \n",
            "  inflating: data/masks/227.npy      \n",
            "  inflating: data/masks/219.npy      \n",
            "  inflating: data/masks/231.npy      \n",
            "  inflating: data/masks/225.npy      \n",
            "  inflating: data/masks/85.npy       \n",
            "  inflating: data/masks/91.npy       \n",
            "  inflating: data/masks/147.npy      \n",
            "  inflating: data/masks/153.npy      \n",
            "  inflating: data/masks/46.npy       \n",
            "  inflating: data/masks/52.npy       \n",
            "  inflating: data/masks/0.npy        \n",
            "  inflating: data/masks/184.npy      \n",
            "  inflating: data/masks/190.npy      \n",
            "  inflating: data/masks/191.npy      \n",
            "  inflating: data/masks/185.npy      \n",
            "  inflating: data/masks/53.npy       \n",
            "  inflating: data/masks/1.npy        \n",
            "  inflating: data/masks/47.npy       \n",
            "  inflating: data/masks/152.npy      \n",
            "  inflating: data/masks/146.npy      \n",
            "  inflating: data/masks/90.npy       \n",
            "  inflating: data/masks/84.npy       \n",
            "  inflating: data/masks/224.npy      \n",
            "  inflating: data/masks/230.npy      \n",
            "  inflating: data/masks/218.npy      \n",
            "  inflating: data/masks/215.npy      \n",
            "  inflating: data/masks/201.npy      \n",
            "  inflating: data/masks/229.npy      \n",
            "  inflating: data/masks/163.npy      \n",
            "  inflating: data/masks/177.npy      \n",
            "  inflating: data/masks/89.npy       \n",
            "  inflating: data/masks/62.npy       \n",
            "  inflating: data/masks/188.npy      \n",
            "  inflating: data/masks/76.npy       \n",
            "  inflating: data/masks/189.npy      \n",
            "  inflating: data/masks/77.npy       \n",
            "  inflating: data/masks/63.npy       \n",
            "  inflating: data/masks/176.npy      \n",
            "  inflating: data/masks/88.npy       \n",
            "  inflating: data/masks/162.npy      \n",
            "  inflating: data/masks/228.npy      \n",
            "  inflating: data/masks/200.npy      \n",
            "  inflating: data/masks/214.npy      \n",
            "  inflating: data/masks/202.npy      \n",
            "  inflating: data/masks/216.npy      \n",
            "  inflating: data/masks/174.npy      \n",
            "  inflating: data/masks/160.npy      \n",
            "  inflating: data/masks/148.npy      \n",
            "  inflating: data/masks/49.npy       \n",
            "  inflating: data/masks/75.npy       \n",
            "  inflating: data/masks/61.npy       \n",
            "  inflating: data/masks/60.npy       \n",
            "  inflating: data/masks/74.npy       \n",
            "  inflating: data/masks/48.npy       \n",
            "  inflating: data/masks/149.npy      \n",
            "  inflating: data/masks/161.npy      \n",
            "  inflating: data/masks/175.npy      \n",
            "  inflating: data/masks/217.npy      \n",
            "  inflating: data/masks/203.npy      \n",
            "  inflating: data/masks/207.npy      \n",
            "  inflating: data/masks/213.npy      \n",
            "  inflating: data/masks/159.npy      \n",
            "  inflating: data/masks/171.npy      \n",
            "  inflating: data/masks/165.npy      \n",
            "  inflating: data/masks/70.npy       \n",
            "  inflating: data/masks/64.npy       \n",
            "  inflating: data/masks/58.npy       \n",
            "  inflating: data/masks/59.npy       \n",
            "  inflating: data/masks/65.npy       \n",
            "  inflating: data/masks/71.npy       \n",
            "  inflating: data/masks/164.npy      \n",
            "  inflating: data/masks/170.npy      \n",
            "  inflating: data/masks/158.npy      \n",
            "  inflating: data/masks/212.npy      \n",
            "  inflating: data/masks/206.npy      \n",
            "  inflating: data/masks/238.npy      \n",
            "  inflating: data/masks/210.npy      \n",
            "  inflating: data/masks/204.npy      \n",
            "  inflating: data/masks/166.npy      \n",
            "  inflating: data/masks/98.npy       \n",
            "  inflating: data/masks/172.npy      \n",
            "  inflating: data/masks/199.npy      \n",
            "  inflating: data/masks/67.npy       \n",
            "  inflating: data/masks/73.npy       \n",
            "  inflating: data/masks/9.npy        \n",
            "  inflating: data/masks/8.npy        \n",
            "  inflating: data/masks/72.npy       \n",
            "  inflating: data/masks/198.npy      \n",
            "  inflating: data/masks/66.npy       \n",
            "  inflating: data/masks/173.npy      \n",
            "  inflating: data/masks/167.npy      \n",
            "  inflating: data/masks/99.npy       \n",
            "  inflating: data/masks/205.npy      \n",
            "  inflating: data/masks/211.npy      \n",
            "  inflating: data/masks/239.npy      \n",
            "  inflating: data/masks/100.npy      \n",
            "  inflating: data/masks/114.npy      \n",
            "  inflating: data/masks/128.npy      \n",
            "  inflating: data/masks/29.npy       \n",
            "  inflating: data/masks/15.npy       \n",
            "  inflating: data/masks/14.npy       \n",
            "  inflating: data/masks/28.npy       \n",
            "  inflating: data/masks/129.npy      \n",
            "  inflating: data/masks/115.npy      \n",
            "  inflating: data/masks/101.npy      \n",
            "  inflating: data/masks/117.npy      \n",
            "  inflating: data/masks/103.npy      \n",
            "  inflating: data/masks/16.npy       \n",
            "  inflating: data/masks/17.npy       \n",
            "  inflating: data/masks/102.npy      \n",
            "  inflating: data/masks/116.npy      \n",
            "  inflating: data/masks/112.npy      \n",
            "  inflating: data/masks/106.npy      \n",
            "  inflating: data/masks/13.npy       \n",
            "  inflating: data/masks/12.npy       \n",
            "  inflating: data/masks/107.npy      \n",
            "  inflating: data/masks/113.npy      \n",
            "  inflating: data/masks/139.npy      \n",
            "  inflating: data/masks/105.npy      \n",
            "  inflating: data/masks/111.npy      \n",
            "  inflating: data/masks/10.npy       \n",
            "  inflating: data/masks/38.npy       \n",
            "  inflating: data/masks/39.npy       \n",
            "  inflating: data/masks/11.npy       \n",
            "  inflating: data/masks/110.npy      \n",
            "  inflating: data/masks/104.npy      \n",
            "  inflating: data/masks/138.npy      \n"
          ],
          "name": "stdout"
        }
      ]
    },
    {
      "metadata": {
        "id": "IJBBRTKE8RJU",
        "colab_type": "code",
        "colab": {}
      },
      "cell_type": "code",
      "source": [
        "batch_size = 64\n",
        "lr = 0.005"
      ],
      "execution_count": 0,
      "outputs": []
    },
    {
      "metadata": {
        "id": "cw4052i7RyQX",
        "colab_type": "code",
        "colab": {}
      },
      "cell_type": "code",
      "source": [
        "# Set random seeds\n",
        "torch.manual_seed(360)\n",
        "np.random.seed(360)\n",
        "random.seed(360)\n",
        "\n",
        "# Form dataset\n",
        "transform = transforms.Compose([transforms.ToTensor(), transforms.Normalize((0.5, 0.5, 0.5), (0.5, 0.5, 0.5))])\n",
        "dataset = ImageMaskDataset(\"/content/data\", transform)\n",
        "\n",
        "# Dataset sizes\n",
        "size = len(dataset)\n",
        "train_size = int(0.6 * size)\n",
        "valid_size = int(0.2 * size)\n",
        "test_size = size - train_size - valid_size\n",
        "\n",
        "batch_size = 64\n",
        "\n",
        "# Splitting datasets\n",
        "train_data, valid_data, test_data = torch.utils.data.random_split(dataset, [train_size, valid_size, test_size])\n",
        "\n",
        "# train_data = train_data[:256]\n",
        "# valid_data = valid_data[:128]\n",
        "\n",
        "# Making dataloader\n",
        "train = DataLoader(train_data, batch_size=batch_size, shuffle=True, num_workers=1, drop_last=True)\n",
        "valid = DataLoader(valid_data, batch_size=batch_size, shuffle=True, num_workers=1)"
      ],
      "execution_count": 0,
      "outputs": []
    },
    {
      "metadata": {
        "id": "qhf6zIXe3a2W",
        "colab_type": "code",
        "colab": {
          "base_uri": "https://localhost:8080/",
          "height": 34
        },
        "outputId": "6baa5466-4b18-4d27-ff9b-f4232f2cfaea"
      },
      "cell_type": "code",
      "source": [
        "device = torch.device(\"cuda:0\" if torch.cuda.is_available() else \"cpu\")\n",
        "net = extractNet_connected_vgg19_bn_leaky(alpha=0.01)\n",
        "net.to(device)\n",
        "\n",
        "print(\"Model is being trained on:\", device)"
      ],
      "execution_count": 38,
      "outputs": [
        {
          "output_type": "stream",
          "text": [
            "Model is being trained on: cuda:0\n"
          ],
          "name": "stdout"
        }
      ]
    },
    {
      "metadata": {
        "id": "G49kRd4b3eo8",
        "colab_type": "code",
        "colab": {}
      },
      "cell_type": "code",
      "source": [
        "torch.cuda.empty_cache()"
      ],
      "execution_count": 0,
      "outputs": []
    },
    {
      "metadata": {
        "id": "VsPu8JoNAv9B",
        "colab_type": "code",
        "outputId": "b01f5055-1bc8-49a0-979a-1c08f629a69b",
        "colab": {
          "base_uri": "https://localhost:8080/",
          "height": 996
        }
      },
      "cell_type": "code",
      "source": [
        "# Train \n",
        "trainModel(net, train, valid, batch_size=batch_size, lr=lr, num_epochs=70, checkpoint=False, device=device)"
      ],
      "execution_count": 43,
      "outputs": [
        {
          "output_type": "stream",
          "text": [
            "Exception ignored in: <bound method _DataLoaderIter.__del__ of <torch.utils.data.dataloader._DataLoaderIter object at 0x7f66b2ef6898>>\n",
            "Traceback (most recent call last):\n",
            "  File \"/usr/local/lib/python3.6/dist-packages/torch/utils/data/dataloader.py\", line 717, in __del__\n",
            "    self._shutdown_workers()\n",
            "  File \"/usr/local/lib/python3.6/dist-packages/torch/utils/data/dataloader.py\", line 713, in _shutdown_workers\n",
            "    w.join()\n",
            "  File \"/usr/lib/python3.6/multiprocessing/process.py\", line 122, in join\n",
            "    assert self._parent_pid == os.getpid(), 'can only join a child process'\n",
            "AssertionError: can only join a child process\n",
            "Exception ignored in: <bound method _DataLoaderIter.__del__ of <torch.utils.data.dataloader._DataLoaderIter object at 0x7f66b0c15978>>\n",
            "Traceback (most recent call last):\n",
            "  File \"/usr/local/lib/python3.6/dist-packages/torch/utils/data/dataloader.py\", line 717, in __del__\n",
            "    self._shutdown_workers()\n",
            "  File \"/usr/local/lib/python3.6/dist-packages/torch/utils/data/dataloader.py\", line 713, in _shutdown_workers\n",
            "    w.join()\n",
            "  File \"/usr/lib/python3.6/multiprocessing/process.py\", line 122, in join\n",
            "    assert self._parent_pid == os.getpid(), 'can only join a child process'\n",
            "AssertionError: can only join a child process\n",
            "Traceback (most recent call last):\n"
          ],
          "name": "stderr"
        },
        {
          "output_type": "error",
          "ename": "KeyboardInterrupt",
          "evalue": "ignored",
          "traceback": [
            "\u001b[0;31m---------------------------------------------------------------------------\u001b[0m",
            "\u001b[0;31mKeyboardInterrupt\u001b[0m                         Traceback (most recent call last)",
            "\u001b[0;32m<ipython-input-43-b04f4f0c1a0e>\u001b[0m in \u001b[0;36m<module>\u001b[0;34m()\u001b[0m\n\u001b[0;32m----> 1\u001b[0;31m \u001b[0mtrainModel\u001b[0m\u001b[0;34m(\u001b[0m\u001b[0mnet\u001b[0m\u001b[0;34m,\u001b[0m \u001b[0mtrain\u001b[0m\u001b[0;34m,\u001b[0m \u001b[0mvalid\u001b[0m\u001b[0;34m,\u001b[0m \u001b[0mbatch_size\u001b[0m\u001b[0;34m=\u001b[0m\u001b[0mbatch_size\u001b[0m\u001b[0;34m,\u001b[0m \u001b[0mlr\u001b[0m\u001b[0;34m=\u001b[0m\u001b[0mlr\u001b[0m\u001b[0;34m,\u001b[0m \u001b[0mnum_epochs\u001b[0m\u001b[0;34m=\u001b[0m\u001b[0;36m70\u001b[0m\u001b[0;34m,\u001b[0m \u001b[0mcheckpoint\u001b[0m\u001b[0;34m=\u001b[0m\u001b[0;32mFalse\u001b[0m\u001b[0;34m,\u001b[0m \u001b[0mdevice\u001b[0m\u001b[0;34m=\u001b[0m\u001b[0mdevice\u001b[0m\u001b[0;34m)\u001b[0m\u001b[0;34m\u001b[0m\u001b[0;34m\u001b[0m\u001b[0m\n\u001b[0m",
            "\u001b[0;32m/content/trainer.py\u001b[0m in \u001b[0;36mtrainModel\u001b[0;34m(model, train_loader, valid_loader, batch_size, lr, num_epochs, out_suppress, checkpoint, save_model, device)\u001b[0m\n\u001b[1;32m     43\u001b[0m \u001b[0;34m\u001b[0m\u001b[0m\n\u001b[1;32m     44\u001b[0m                         \u001b[0;31m# Backward pass\u001b[0m\u001b[0;34m\u001b[0m\u001b[0;34m\u001b[0m\u001b[0;34m\u001b[0m\u001b[0m\n\u001b[0;32m---> 45\u001b[0;31m                         \u001b[0mloss\u001b[0m\u001b[0;34m.\u001b[0m\u001b[0mbackward\u001b[0m\u001b[0;34m(\u001b[0m\u001b[0;34m)\u001b[0m\u001b[0;34m\u001b[0m\u001b[0;34m\u001b[0m\u001b[0m\n\u001b[0m\u001b[1;32m     46\u001b[0m \u001b[0;34m\u001b[0m\u001b[0m\n\u001b[1;32m     47\u001b[0m                         \u001b[0;31m# Update weights\u001b[0m\u001b[0;34m\u001b[0m\u001b[0;34m\u001b[0m\u001b[0;34m\u001b[0m\u001b[0m\n",
            "\u001b[0;32m/usr/local/lib/python3.6/dist-packages/torch/tensor.py\u001b[0m in \u001b[0;36mbackward\u001b[0;34m(self, gradient, retain_graph, create_graph)\u001b[0m\n\u001b[1;32m    100\u001b[0m                 \u001b[0mproducts\u001b[0m\u001b[0;34m.\u001b[0m \u001b[0mDefaults\u001b[0m \u001b[0mto\u001b[0m\u001b[0;31m \u001b[0m\u001b[0;31m`\u001b[0m\u001b[0;31m`\u001b[0m\u001b[0;32mFalse\u001b[0m\u001b[0;31m`\u001b[0m\u001b[0;31m`\u001b[0m\u001b[0;34m.\u001b[0m\u001b[0;34m\u001b[0m\u001b[0;34m\u001b[0m\u001b[0m\n\u001b[1;32m    101\u001b[0m         \"\"\"\n\u001b[0;32m--> 102\u001b[0;31m         \u001b[0mtorch\u001b[0m\u001b[0;34m.\u001b[0m\u001b[0mautograd\u001b[0m\u001b[0;34m.\u001b[0m\u001b[0mbackward\u001b[0m\u001b[0;34m(\u001b[0m\u001b[0mself\u001b[0m\u001b[0;34m,\u001b[0m \u001b[0mgradient\u001b[0m\u001b[0;34m,\u001b[0m \u001b[0mretain_graph\u001b[0m\u001b[0;34m,\u001b[0m \u001b[0mcreate_graph\u001b[0m\u001b[0;34m)\u001b[0m\u001b[0;34m\u001b[0m\u001b[0;34m\u001b[0m\u001b[0m\n\u001b[0m\u001b[1;32m    103\u001b[0m \u001b[0;34m\u001b[0m\u001b[0m\n\u001b[1;32m    104\u001b[0m     \u001b[0;32mdef\u001b[0m \u001b[0mregister_hook\u001b[0m\u001b[0;34m(\u001b[0m\u001b[0mself\u001b[0m\u001b[0;34m,\u001b[0m \u001b[0mhook\u001b[0m\u001b[0;34m)\u001b[0m\u001b[0;34m:\u001b[0m\u001b[0;34m\u001b[0m\u001b[0;34m\u001b[0m\u001b[0m\n",
            "\u001b[0;32m/usr/local/lib/python3.6/dist-packages/torch/autograd/__init__.py\u001b[0m in \u001b[0;36mbackward\u001b[0;34m(tensors, grad_tensors, retain_graph, create_graph, grad_variables)\u001b[0m\n\u001b[1;32m     88\u001b[0m     Variable._execution_engine.run_backward(\n\u001b[1;32m     89\u001b[0m         \u001b[0mtensors\u001b[0m\u001b[0;34m,\u001b[0m \u001b[0mgrad_tensors\u001b[0m\u001b[0;34m,\u001b[0m \u001b[0mretain_graph\u001b[0m\u001b[0;34m,\u001b[0m \u001b[0mcreate_graph\u001b[0m\u001b[0;34m,\u001b[0m\u001b[0;34m\u001b[0m\u001b[0;34m\u001b[0m\u001b[0m\n\u001b[0;32m---> 90\u001b[0;31m         allow_unreachable=True)  # allow_unreachable flag\n\u001b[0m\u001b[1;32m     91\u001b[0m \u001b[0;34m\u001b[0m\u001b[0m\n\u001b[1;32m     92\u001b[0m \u001b[0;34m\u001b[0m\u001b[0m\n",
            "\u001b[0;31mKeyboardInterrupt\u001b[0m: "
          ]
        },
        {
          "output_type": "stream",
          "text": [
            "  File \"/usr/lib/python3.6/multiprocessing/queues.py\", line 240, in _feed\n",
            "    send_bytes(obj)\n",
            "  File \"/usr/lib/python3.6/multiprocessing/connection.py\", line 200, in send_bytes\n",
            "    self._send_bytes(m[offset:offset + size])\n",
            "  File \"/usr/lib/python3.6/multiprocessing/connection.py\", line 404, in _send_bytes\n",
            "    self._send(header + buf)\n",
            "  File \"/usr/lib/python3.6/multiprocessing/connection.py\", line 368, in _send\n",
            "    n = write(self._handle, buf)\n",
            "BrokenPipeError: [Errno 32] Broken pipe\n"
          ],
          "name": "stderr"
        }
      ]
    },
    {
      "metadata": {
        "id": "bxBResgx-053",
        "colab_type": "code",
        "colab": {
          "base_uri": "https://localhost:8080/",
          "height": 1292
        },
        "outputId": "a5418bb3-4ca7-40e9-8d51-b1be1fa55621"
      },
      "cell_type": "code",
      "source": [
        "#compare to \n",
        "comp_net = extractNet_connected_vgg19_bn()\n",
        "comp_net.to(device)"
      ],
      "execution_count": 13,
      "outputs": [
        {
          "output_type": "execute_result",
          "data": {
            "text/plain": [
              "extractNet_connected_vgg19_bn(\n",
              "  (vgg): VGG(\n",
              "    (features): Sequential(\n",
              "      (0): Conv2d(3, 64, kernel_size=(3, 3), stride=(1, 1), padding=(1, 1))\n",
              "      (1): BatchNorm2d(64, eps=1e-05, momentum=0.1, affine=True, track_running_stats=True)\n",
              "      (2): ReLU(inplace)\n",
              "      (3): Conv2d(64, 64, kernel_size=(3, 3), stride=(1, 1), padding=(1, 1))\n",
              "      (4): BatchNorm2d(64, eps=1e-05, momentum=0.1, affine=True, track_running_stats=True)\n",
              "      (5): ReLU(inplace)\n",
              "      (6): MaxPool2d(kernel_size=2, stride=2, padding=0, dilation=1, ceil_mode=False)\n",
              "      (7): Conv2d(64, 128, kernel_size=(3, 3), stride=(1, 1), padding=(1, 1))\n",
              "      (8): BatchNorm2d(128, eps=1e-05, momentum=0.1, affine=True, track_running_stats=True)\n",
              "      (9): ReLU(inplace)\n",
              "      (10): Conv2d(128, 128, kernel_size=(3, 3), stride=(1, 1), padding=(1, 1))\n",
              "      (11): BatchNorm2d(128, eps=1e-05, momentum=0.1, affine=True, track_running_stats=True)\n",
              "      (12): ReLU(inplace)\n",
              "      (13): MaxPool2d(kernel_size=2, stride=2, padding=0, dilation=1, ceil_mode=False)\n",
              "      (14): Conv2d(128, 256, kernel_size=(3, 3), stride=(1, 1), padding=(1, 1))\n",
              "      (15): BatchNorm2d(256, eps=1e-05, momentum=0.1, affine=True, track_running_stats=True)\n",
              "      (16): ReLU(inplace)\n",
              "      (17): Conv2d(256, 256, kernel_size=(3, 3), stride=(1, 1), padding=(1, 1))\n",
              "      (18): BatchNorm2d(256, eps=1e-05, momentum=0.1, affine=True, track_running_stats=True)\n",
              "      (19): ReLU(inplace)\n",
              "      (20): Conv2d(256, 256, kernel_size=(3, 3), stride=(1, 1), padding=(1, 1))\n",
              "      (21): BatchNorm2d(256, eps=1e-05, momentum=0.1, affine=True, track_running_stats=True)\n",
              "      (22): ReLU(inplace)\n",
              "      (23): Conv2d(256, 256, kernel_size=(3, 3), stride=(1, 1), padding=(1, 1))\n",
              "      (24): BatchNorm2d(256, eps=1e-05, momentum=0.1, affine=True, track_running_stats=True)\n",
              "      (25): ReLU(inplace)\n",
              "      (26): MaxPool2d(kernel_size=2, stride=2, padding=0, dilation=1, ceil_mode=False)\n",
              "      (27): Conv2d(256, 512, kernel_size=(3, 3), stride=(1, 1), padding=(1, 1))\n",
              "      (28): BatchNorm2d(512, eps=1e-05, momentum=0.1, affine=True, track_running_stats=True)\n",
              "      (29): ReLU(inplace)\n",
              "      (30): Conv2d(512, 512, kernel_size=(3, 3), stride=(1, 1), padding=(1, 1))\n",
              "      (31): BatchNorm2d(512, eps=1e-05, momentum=0.1, affine=True, track_running_stats=True)\n",
              "      (32): ReLU(inplace)\n",
              "      (33): Conv2d(512, 512, kernel_size=(3, 3), stride=(1, 1), padding=(1, 1))\n",
              "      (34): BatchNorm2d(512, eps=1e-05, momentum=0.1, affine=True, track_running_stats=True)\n",
              "      (35): ReLU(inplace)\n",
              "      (36): Conv2d(512, 512, kernel_size=(3, 3), stride=(1, 1), padding=(1, 1))\n",
              "      (37): BatchNorm2d(512, eps=1e-05, momentum=0.1, affine=True, track_running_stats=True)\n",
              "      (38): ReLU(inplace)\n",
              "      (39): MaxPool2d(kernel_size=2, stride=2, padding=0, dilation=1, ceil_mode=False)\n",
              "      (40): Conv2d(512, 512, kernel_size=(3, 3), stride=(1, 1), padding=(1, 1))\n",
              "      (41): BatchNorm2d(512, eps=1e-05, momentum=0.1, affine=True, track_running_stats=True)\n",
              "      (42): ReLU(inplace)\n",
              "      (43): Conv2d(512, 512, kernel_size=(3, 3), stride=(1, 1), padding=(1, 1))\n",
              "      (44): BatchNorm2d(512, eps=1e-05, momentum=0.1, affine=True, track_running_stats=True)\n",
              "      (45): ReLU(inplace)\n",
              "      (46): Conv2d(512, 512, kernel_size=(3, 3), stride=(1, 1), padding=(1, 1))\n",
              "      (47): BatchNorm2d(512, eps=1e-05, momentum=0.1, affine=True, track_running_stats=True)\n",
              "      (48): ReLU(inplace)\n",
              "      (49): Conv2d(512, 512, kernel_size=(3, 3), stride=(1, 1), padding=(1, 1))\n",
              "      (50): BatchNorm2d(512, eps=1e-05, momentum=0.1, affine=True, track_running_stats=True)\n",
              "      (51): ReLU(inplace)\n",
              "      (52): MaxPool2d(kernel_size=2, stride=2, padding=0, dilation=1, ceil_mode=False)\n",
              "    )\n",
              "    (avgpool): AdaptiveAvgPool2d(output_size=(7, 7))\n",
              "    (classifier): Sequential(\n",
              "      (0): Linear(in_features=25088, out_features=4096, bias=True)\n",
              "      (1): ReLU(inplace)\n",
              "      (2): Dropout(p=0.5)\n",
              "      (3): Linear(in_features=4096, out_features=4096, bias=True)\n",
              "      (4): ReLU(inplace)\n",
              "      (5): Dropout(p=0.5)\n",
              "      (6): Linear(in_features=4096, out_features=1000, bias=True)\n",
              "    )\n",
              "  )\n",
              "  (deconv1): ConvTranspose2d(512, 512, kernel_size=(3, 3), stride=(2, 2), padding=(1, 1), output_padding=(1, 1))\n",
              "  (deconv2): ConvTranspose2d(1024, 256, kernel_size=(3, 3), stride=(2, 2), padding=(1, 1), output_padding=(1, 1))\n",
              "  (deconv3): ConvTranspose2d(512, 128, kernel_size=(3, 3), stride=(2, 2), padding=(1, 1), output_padding=(1, 1))\n",
              "  (deconv4): ConvTranspose2d(256, 64, kernel_size=(3, 3), stride=(2, 2), padding=(1, 1), output_padding=(1, 1))\n",
              "  (deconv5): ConvTranspose2d(128, 3, kernel_size=(3, 3), stride=(2, 2), padding=(1, 1), output_padding=(1, 1))\n",
              "  (deconv6): ConvTranspose2d(6, 1, kernel_size=(3, 3), stride=(1, 1), padding=(1, 1))\n",
              ")"
            ]
          },
          "metadata": {
            "tags": []
          },
          "execution_count": 13
        }
      ]
    },
    {
      "metadata": {
        "id": "oyzIsEIZ_SMI",
        "colab_type": "code",
        "colab": {
          "base_uri": "https://localhost:8080/",
          "height": 877
        },
        "outputId": "f015fdc8-bd99-4b37-e9cc-64f7fd36c867"
      },
      "cell_type": "code",
      "source": [
        "trainModel(comp_net, train, valid, batch_size=batch_size, lr=lr, num_epochs=70, checkpoint=True, device=device)"
      ],
      "execution_count": 14,
      "outputs": [
        {
          "output_type": "stream",
          "text": [
            "Epoch:0, Train IoU:0.2966, Train Loss:0.0116|Valid IoU:0.2987, Valid Loss:0.0154\n",
            "Epoch:1, Train IoU:0.2965, Train Loss:0.0115|Valid IoU:0.2956, Valid Loss:0.0153\n",
            "Epoch:2, Train IoU:0.3259, Train Loss:0.0114|Valid IoU:0.3221, Valid Loss:0.0152\n",
            "Epoch:3, Train IoU:0.3789, Train Loss:0.0108|Valid IoU:0.3654, Valid Loss:0.0146\n",
            "Epoch:4, Train IoU:0.4549, Train Loss:0.0107|Valid IoU:0.4356, Valid Loss:0.0146\n",
            "Epoch:5, Train IoU:0.4439, Train Loss:0.0098|Valid IoU:0.4064, Valid Loss:0.0134\n",
            "Epoch:6, Train IoU:0.5070, Train Loss:0.0101|Valid IoU:0.4691, Valid Loss:0.0140\n",
            "Epoch:7, Train IoU:0.5537, Train Loss:0.0098|Valid IoU:0.5022, Valid Loss:0.0136\n",
            "Epoch:8, Train IoU:0.5968, Train Loss:0.0095|Valid IoU:0.5312, Valid Loss:0.0132\n",
            "Epoch:9, Train IoU:0.6635, Train Loss:0.0095|Valid IoU:0.5827, Valid Loss:0.0134\n",
            "Epoch:10, Train IoU:0.6393, Train Loss:0.0093|Valid IoU:0.5604, Valid Loss:0.0129\n",
            "Epoch:11, Train IoU:0.6785, Train Loss:0.0095|Valid IoU:0.5964, Valid Loss:0.0134\n",
            "Epoch:12, Train IoU:0.6804, Train Loss:0.0091|Valid IoU:0.5832, Valid Loss:0.0129\n",
            "Epoch:13, Train IoU:0.7270, Train Loss:0.0091|Valid IoU:0.6207, Valid Loss:0.0130\n",
            "Epoch:14, Train IoU:0.7398, Train Loss:0.0090|Valid IoU:0.6244, Valid Loss:0.0128\n",
            "Epoch:15, Train IoU:0.7584, Train Loss:0.0089|Valid IoU:0.6346, Valid Loss:0.0127\n",
            "Epoch:16, Train IoU:0.7755, Train Loss:0.0090|Valid IoU:0.6522, Valid Loss:0.0130\n",
            "Epoch:17, Train IoU:0.7856, Train Loss:0.0087|Valid IoU:0.6438, Valid Loss:0.0126\n"
          ],
          "name": "stdout"
        },
        {
          "output_type": "stream",
          "text": [
            "Traceback (most recent call last):\n",
            "  File \"/usr/lib/python3.6/multiprocessing/queues.py\", line 240, in _feed\n",
            "    send_bytes(obj)\n",
            "  File \"/usr/lib/python3.6/multiprocessing/connection.py\", line 200, in send_bytes\n",
            "    self._send_bytes(m[offset:offset + size])\n",
            "  File \"/usr/lib/python3.6/multiprocessing/connection.py\", line 404, in _send_bytes\n",
            "    self._send(header + buf)\n",
            "  File \"/usr/lib/python3.6/multiprocessing/connection.py\", line 368, in _send\n",
            "    n = write(self._handle, buf)\n",
            "BrokenPipeError: [Errno 32] Broken pipe\n"
          ],
          "name": "stderr"
        },
        {
          "output_type": "error",
          "ename": "KeyboardInterrupt",
          "evalue": "ignored",
          "traceback": [
            "\u001b[0;31m---------------------------------------------------------------------------\u001b[0m",
            "\u001b[0;31mKeyboardInterrupt\u001b[0m                         Traceback (most recent call last)",
            "\u001b[0;32m<ipython-input-14-a1c15e05c2aa>\u001b[0m in \u001b[0;36m<module>\u001b[0;34m()\u001b[0m\n\u001b[0;32m----> 1\u001b[0;31m \u001b[0mtrainModel\u001b[0m\u001b[0;34m(\u001b[0m\u001b[0mcomp_net\u001b[0m\u001b[0;34m,\u001b[0m \u001b[0mtrain\u001b[0m\u001b[0;34m,\u001b[0m \u001b[0mvalid\u001b[0m\u001b[0;34m,\u001b[0m \u001b[0mbatch_size\u001b[0m\u001b[0;34m=\u001b[0m\u001b[0mbatch_size\u001b[0m\u001b[0;34m,\u001b[0m \u001b[0mlr\u001b[0m\u001b[0;34m=\u001b[0m\u001b[0mlr\u001b[0m\u001b[0;34m,\u001b[0m \u001b[0mnum_epochs\u001b[0m\u001b[0;34m=\u001b[0m\u001b[0;36m70\u001b[0m\u001b[0;34m,\u001b[0m \u001b[0mcheckpoint\u001b[0m\u001b[0;34m=\u001b[0m\u001b[0;32mTrue\u001b[0m\u001b[0;34m,\u001b[0m \u001b[0mdevice\u001b[0m\u001b[0;34m=\u001b[0m\u001b[0mdevice\u001b[0m\u001b[0;34m)\u001b[0m\u001b[0;34m\u001b[0m\u001b[0;34m\u001b[0m\u001b[0m\n\u001b[0m",
            "\u001b[0;32m/content/trainer.py\u001b[0m in \u001b[0;36mtrainModel\u001b[0;34m(model, train_loader, valid_loader, batch_size, lr, num_epochs, out_suppress, checkpoint, save_model, device)\u001b[0m\n\u001b[1;32m     56\u001b[0m                 \u001b[0;31m# and so it is more comparable with validation loss\u001b[0m\u001b[0;34m\u001b[0m\u001b[0;34m\u001b[0m\u001b[0;34m\u001b[0m\u001b[0m\n\u001b[1;32m     57\u001b[0m                 \u001b[0;31m# (which is also computed using the weights at the end of the epoch)\u001b[0m\u001b[0;34m\u001b[0m\u001b[0;34m\u001b[0m\u001b[0;34m\u001b[0m\u001b[0m\n\u001b[0;32m---> 58\u001b[0;31m                         \u001b[0mtrain_loss\u001b[0m\u001b[0;34m[\u001b[0m\u001b[0mepoch\u001b[0m\u001b[0;34m]\u001b[0m \u001b[0;34m=\u001b[0m \u001b[0mgetLoss\u001b[0m\u001b[0;34m(\u001b[0m\u001b[0mmodel\u001b[0m\u001b[0;34m,\u001b[0m \u001b[0mtrain_loader\u001b[0m\u001b[0;34m,\u001b[0m \u001b[0mcriterion\u001b[0m\u001b[0;34m,\u001b[0m \u001b[0mdevice\u001b[0m\u001b[0;34m)\u001b[0m\u001b[0;34m\u001b[0m\u001b[0;34m\u001b[0m\u001b[0m\n\u001b[0m\u001b[1;32m     59\u001b[0m                         \u001b[0mtrain_acc\u001b[0m\u001b[0;34m[\u001b[0m\u001b[0mepoch\u001b[0m\u001b[0;34m]\u001b[0m \u001b[0;34m=\u001b[0m \u001b[0mcalculateTotalIoU\u001b[0m\u001b[0;34m(\u001b[0m\u001b[0mmodel\u001b[0m\u001b[0;34m,\u001b[0m \u001b[0mtrain_loader\u001b[0m\u001b[0;34m,\u001b[0m \u001b[0mdevice\u001b[0m\u001b[0;34m)\u001b[0m\u001b[0;34m\u001b[0m\u001b[0;34m\u001b[0m\u001b[0m\n\u001b[1;32m     60\u001b[0m                         \u001b[0mvalid_loss\u001b[0m\u001b[0;34m[\u001b[0m\u001b[0mepoch\u001b[0m\u001b[0;34m]\u001b[0m \u001b[0;34m=\u001b[0m \u001b[0mgetLoss\u001b[0m\u001b[0;34m(\u001b[0m\u001b[0mmodel\u001b[0m\u001b[0;34m,\u001b[0m \u001b[0mvalid_loader\u001b[0m\u001b[0;34m,\u001b[0m \u001b[0mcriterion\u001b[0m\u001b[0;34m,\u001b[0m \u001b[0mdevice\u001b[0m\u001b[0;34m)\u001b[0m\u001b[0;34m\u001b[0m\u001b[0;34m\u001b[0m\u001b[0m\n",
            "\u001b[0;32m/content/metrics.py\u001b[0m in \u001b[0;36mgetLoss\u001b[0;34m(model, data_loader, criterion, device)\u001b[0m\n\u001b[1;32m     64\u001b[0m                 \u001b[0mimg\u001b[0m\u001b[0;34m,\u001b[0m \u001b[0mtarget\u001b[0m \u001b[0;34m=\u001b[0m \u001b[0mbatch\u001b[0m\u001b[0;34m\u001b[0m\u001b[0;34m\u001b[0m\u001b[0m\n\u001b[1;32m     65\u001b[0m \u001b[0;34m\u001b[0m\u001b[0m\n\u001b[0;32m---> 66\u001b[0;31m                 \u001b[0mimg\u001b[0m \u001b[0;34m=\u001b[0m \u001b[0mimg\u001b[0m\u001b[0;34m.\u001b[0m\u001b[0mto\u001b[0m\u001b[0;34m(\u001b[0m\u001b[0mdevice\u001b[0m\u001b[0;34m)\u001b[0m\u001b[0;34m\u001b[0m\u001b[0;34m\u001b[0m\u001b[0m\n\u001b[0m\u001b[1;32m     67\u001b[0m                 \u001b[0mtarget\u001b[0m \u001b[0;34m=\u001b[0m \u001b[0mtarget\u001b[0m\u001b[0;34m.\u001b[0m\u001b[0mto\u001b[0m\u001b[0;34m(\u001b[0m\u001b[0mdevice\u001b[0m\u001b[0;34m)\u001b[0m\u001b[0;34m\u001b[0m\u001b[0;34m\u001b[0m\u001b[0m\n\u001b[1;32m     68\u001b[0m \u001b[0;34m\u001b[0m\u001b[0m\n",
            "\u001b[0;31mKeyboardInterrupt\u001b[0m: "
          ]
        }
      ]
    },
    {
      "metadata": {
        "id": "1JUAQRga_8QS",
        "colab_type": "code",
        "colab": {
          "base_uri": "https://localhost:8080/",
          "height": 1088
        },
        "outputId": "8522d7c0-111d-46bb-ca4b-1f07e214b0a5"
      },
      "cell_type": "code",
      "source": [
        "#compare to without leaky relu\n",
        "net2 = extractNet_connected_vgg19_bn_leaky(alpha=0.0)\n",
        "net2.to(device)"
      ],
      "execution_count": 30,
      "outputs": [
        {
          "output_type": "execute_result",
          "data": {
            "text/plain": [
              "extractNet_connected_vgg19_bn_leaky(\n",
              "  (vgg_feature): Sequential(\n",
              "    (0): Conv2d(3, 64, kernel_size=(3, 3), stride=(1, 1), padding=(1, 1))\n",
              "    (1): BatchNorm2d(64, eps=1e-05, momentum=0.1, affine=True, track_running_stats=True)\n",
              "    (2): ReLU(inplace)\n",
              "    (3): Conv2d(64, 64, kernel_size=(3, 3), stride=(1, 1), padding=(1, 1))\n",
              "    (4): BatchNorm2d(64, eps=1e-05, momentum=0.1, affine=True, track_running_stats=True)\n",
              "    (5): ReLU(inplace)\n",
              "    (6): MaxPool2d(kernel_size=2, stride=2, padding=0, dilation=1, ceil_mode=False)\n",
              "    (7): Conv2d(64, 128, kernel_size=(3, 3), stride=(1, 1), padding=(1, 1))\n",
              "    (8): BatchNorm2d(128, eps=1e-05, momentum=0.1, affine=True, track_running_stats=True)\n",
              "    (9): ReLU(inplace)\n",
              "    (10): Conv2d(128, 128, kernel_size=(3, 3), stride=(1, 1), padding=(1, 1))\n",
              "    (11): BatchNorm2d(128, eps=1e-05, momentum=0.1, affine=True, track_running_stats=True)\n",
              "    (12): ReLU(inplace)\n",
              "    (13): MaxPool2d(kernel_size=2, stride=2, padding=0, dilation=1, ceil_mode=False)\n",
              "    (14): Conv2d(128, 256, kernel_size=(3, 3), stride=(1, 1), padding=(1, 1))\n",
              "    (15): BatchNorm2d(256, eps=1e-05, momentum=0.1, affine=True, track_running_stats=True)\n",
              "    (16): ReLU(inplace)\n",
              "    (17): Conv2d(256, 256, kernel_size=(3, 3), stride=(1, 1), padding=(1, 1))\n",
              "    (18): BatchNorm2d(256, eps=1e-05, momentum=0.1, affine=True, track_running_stats=True)\n",
              "    (19): ReLU(inplace)\n",
              "    (20): Conv2d(256, 256, kernel_size=(3, 3), stride=(1, 1), padding=(1, 1))\n",
              "    (21): BatchNorm2d(256, eps=1e-05, momentum=0.1, affine=True, track_running_stats=True)\n",
              "    (22): ReLU(inplace)\n",
              "    (23): Conv2d(256, 256, kernel_size=(3, 3), stride=(1, 1), padding=(1, 1))\n",
              "    (24): BatchNorm2d(256, eps=1e-05, momentum=0.1, affine=True, track_running_stats=True)\n",
              "    (25): ReLU(inplace)\n",
              "    (26): MaxPool2d(kernel_size=2, stride=2, padding=0, dilation=1, ceil_mode=False)\n",
              "    (27): Conv2d(256, 512, kernel_size=(3, 3), stride=(1, 1), padding=(1, 1))\n",
              "    (28): BatchNorm2d(512, eps=1e-05, momentum=0.1, affine=True, track_running_stats=True)\n",
              "    (29): ReLU(inplace)\n",
              "    (30): Conv2d(512, 512, kernel_size=(3, 3), stride=(1, 1), padding=(1, 1))\n",
              "    (31): BatchNorm2d(512, eps=1e-05, momentum=0.1, affine=True, track_running_stats=True)\n",
              "    (32): ReLU(inplace)\n",
              "    (33): Conv2d(512, 512, kernel_size=(3, 3), stride=(1, 1), padding=(1, 1))\n",
              "    (34): BatchNorm2d(512, eps=1e-05, momentum=0.1, affine=True, track_running_stats=True)\n",
              "    (35): ReLU(inplace)\n",
              "    (36): Conv2d(512, 512, kernel_size=(3, 3), stride=(1, 1), padding=(1, 1))\n",
              "    (37): BatchNorm2d(512, eps=1e-05, momentum=0.1, affine=True, track_running_stats=True)\n",
              "    (38): ReLU(inplace)\n",
              "    (39): MaxPool2d(kernel_size=2, stride=2, padding=0, dilation=1, ceil_mode=False)\n",
              "    (40): Conv2d(512, 512, kernel_size=(3, 3), stride=(1, 1), padding=(1, 1))\n",
              "    (41): BatchNorm2d(512, eps=1e-05, momentum=0.1, affine=True, track_running_stats=True)\n",
              "    (42): ReLU(inplace)\n",
              "    (43): Conv2d(512, 512, kernel_size=(3, 3), stride=(1, 1), padding=(1, 1))\n",
              "    (44): BatchNorm2d(512, eps=1e-05, momentum=0.1, affine=True, track_running_stats=True)\n",
              "    (45): ReLU(inplace)\n",
              "    (46): Conv2d(512, 512, kernel_size=(3, 3), stride=(1, 1), padding=(1, 1))\n",
              "    (47): BatchNorm2d(512, eps=1e-05, momentum=0.1, affine=True, track_running_stats=True)\n",
              "    (48): ReLU(inplace)\n",
              "    (49): Conv2d(512, 512, kernel_size=(3, 3), stride=(1, 1), padding=(1, 1))\n",
              "    (50): BatchNorm2d(512, eps=1e-05, momentum=0.1, affine=True, track_running_stats=True)\n",
              "    (51): ReLU(inplace)\n",
              "    (52): MaxPool2d(kernel_size=2, stride=2, padding=0, dilation=1, ceil_mode=False)\n",
              "  )\n",
              "  (deconv1): ConvTranspose2d(512, 512, kernel_size=(3, 3), stride=(2, 2), padding=(1, 1), output_padding=(1, 1))\n",
              "  (deconv2): ConvTranspose2d(1024, 256, kernel_size=(3, 3), stride=(2, 2), padding=(1, 1), output_padding=(1, 1))\n",
              "  (deconv3): ConvTranspose2d(512, 128, kernel_size=(3, 3), stride=(2, 2), padding=(1, 1), output_padding=(1, 1))\n",
              "  (deconv4): ConvTranspose2d(256, 64, kernel_size=(3, 3), stride=(2, 2), padding=(1, 1), output_padding=(1, 1))\n",
              "  (deconv5): ConvTranspose2d(128, 3, kernel_size=(3, 3), stride=(2, 2), padding=(1, 1), output_padding=(1, 1))\n",
              "  (deconv6): ConvTranspose2d(6, 1, kernel_size=(3, 3), stride=(1, 1), padding=(1, 1))\n",
              ")"
            ]
          },
          "metadata": {
            "tags": []
          },
          "execution_count": 30
        }
      ]
    },
    {
      "metadata": {
        "id": "mYQP_b7dAJIJ",
        "colab_type": "code",
        "colab": {
          "base_uri": "https://localhost:8080/",
          "height": 1064
        },
        "outputId": "b03cce8b-7c10-4ff2-b8cc-9daf41f59098"
      },
      "cell_type": "code",
      "source": [
        "trainModel(net2, train, valid, batch_size=batch_size, lr=lr, num_epochs=70, checkpoint=False, device=device)"
      ],
      "execution_count": 31,
      "outputs": [
        {
          "output_type": "stream",
          "text": [
            "Epoch:0, Train IoU:0.3332, Train Loss:0.0116|Valid IoU:0.3337, Valid Loss:0.0155\n",
            "Epoch:1, Train IoU:0.3314, Train Loss:0.0113|Valid IoU:0.3253, Valid Loss:0.0152\n",
            "Epoch:2, Train IoU:0.4299, Train Loss:0.0104|Valid IoU:0.4042, Valid Loss:0.0143\n",
            "Epoch:3, Train IoU:0.5533, Train Loss:0.0105|Valid IoU:0.5155, Valid Loss:0.0146\n",
            "Epoch:4, Train IoU:0.5725, Train Loss:0.0098|Valid IoU:0.5154, Valid Loss:0.0136\n",
            "Epoch:5, Train IoU:0.5428, Train Loss:0.0100|Valid IoU:0.4960, Valid Loss:0.0138\n",
            "Epoch:6, Train IoU:0.5479, Train Loss:0.0096|Valid IoU:0.4893, Valid Loss:0.0133\n",
            "Epoch:7, Train IoU:0.6196, Train Loss:0.0096|Valid IoU:0.5550, Valid Loss:0.0135\n"
          ],
          "name": "stdout"
        },
        {
          "output_type": "stream",
          "text": [
            "Traceback (most recent call last):\n",
            "  File \"/usr/lib/python3.6/multiprocessing/queues.py\", line 240, in _feed\n",
            "    send_bytes(obj)\n",
            "  File \"/usr/lib/python3.6/multiprocessing/connection.py\", line 200, in send_bytes\n",
            "    self._send_bytes(m[offset:offset + size])\n",
            "  File \"/usr/lib/python3.6/multiprocessing/connection.py\", line 404, in _send_bytes\n",
            "    self._send(header + buf)\n",
            "  File \"/usr/lib/python3.6/multiprocessing/connection.py\", line 368, in _send\n",
            "    n = write(self._handle, buf)\n",
            "BrokenPipeError: [Errno 32] Broken pipe\n"
          ],
          "name": "stderr"
        },
        {
          "output_type": "error",
          "ename": "KeyboardInterrupt",
          "evalue": "ignored",
          "traceback": [
            "\u001b[0;31m---------------------------------------------------------------------------\u001b[0m",
            "\u001b[0;31mKeyboardInterrupt\u001b[0m                         Traceback (most recent call last)",
            "\u001b[0;32m<ipython-input-31-1a958854b447>\u001b[0m in \u001b[0;36m<module>\u001b[0;34m()\u001b[0m\n\u001b[0;32m----> 1\u001b[0;31m \u001b[0mtrainModel\u001b[0m\u001b[0;34m(\u001b[0m\u001b[0mnet2\u001b[0m\u001b[0;34m,\u001b[0m \u001b[0mtrain\u001b[0m\u001b[0;34m,\u001b[0m \u001b[0mvalid\u001b[0m\u001b[0;34m,\u001b[0m \u001b[0mbatch_size\u001b[0m\u001b[0;34m=\u001b[0m\u001b[0mbatch_size\u001b[0m\u001b[0;34m,\u001b[0m \u001b[0mlr\u001b[0m\u001b[0;34m=\u001b[0m\u001b[0mlr\u001b[0m\u001b[0;34m,\u001b[0m \u001b[0mnum_epochs\u001b[0m\u001b[0;34m=\u001b[0m\u001b[0;36m70\u001b[0m\u001b[0;34m,\u001b[0m \u001b[0mcheckpoint\u001b[0m\u001b[0;34m=\u001b[0m\u001b[0;32mFalse\u001b[0m\u001b[0;34m,\u001b[0m \u001b[0mdevice\u001b[0m\u001b[0;34m=\u001b[0m\u001b[0mdevice\u001b[0m\u001b[0;34m)\u001b[0m\u001b[0;34m\u001b[0m\u001b[0;34m\u001b[0m\u001b[0m\n\u001b[0m",
            "\u001b[0;32m/content/trainer.py\u001b[0m in \u001b[0;36mtrainModel\u001b[0;34m(model, train_loader, valid_loader, batch_size, lr, num_epochs, out_suppress, checkpoint, save_model, device)\u001b[0m\n\u001b[1;32m     38\u001b[0m \u001b[0;34m\u001b[0m\u001b[0m\n\u001b[1;32m     39\u001b[0m                         \u001b[0;31m# Forward pass\u001b[0m\u001b[0;34m\u001b[0m\u001b[0;34m\u001b[0m\u001b[0;34m\u001b[0m\u001b[0m\n\u001b[0;32m---> 40\u001b[0;31m                         \u001b[0mpred\u001b[0m \u001b[0;34m=\u001b[0m \u001b[0mmodel\u001b[0m\u001b[0;34m(\u001b[0m\u001b[0mimg\u001b[0m\u001b[0;34m)\u001b[0m\u001b[0;34m\u001b[0m\u001b[0;34m\u001b[0m\u001b[0m\n\u001b[0m\u001b[1;32m     41\u001b[0m \u001b[0;34m\u001b[0m\u001b[0m\n\u001b[1;32m     42\u001b[0m                         \u001b[0mloss\u001b[0m \u001b[0;34m=\u001b[0m \u001b[0mcriterion\u001b[0m\u001b[0;34m(\u001b[0m\u001b[0mpred\u001b[0m\u001b[0;34m,\u001b[0m \u001b[0mtarget\u001b[0m\u001b[0;34m)\u001b[0m\u001b[0;34m\u001b[0m\u001b[0;34m\u001b[0m\u001b[0m\n",
            "\u001b[0;32m/usr/local/lib/python3.6/dist-packages/torch/nn/modules/module.py\u001b[0m in \u001b[0;36m__call__\u001b[0;34m(self, *input, **kwargs)\u001b[0m\n\u001b[1;32m    487\u001b[0m             \u001b[0mresult\u001b[0m \u001b[0;34m=\u001b[0m \u001b[0mself\u001b[0m\u001b[0;34m.\u001b[0m\u001b[0m_slow_forward\u001b[0m\u001b[0;34m(\u001b[0m\u001b[0;34m*\u001b[0m\u001b[0minput\u001b[0m\u001b[0;34m,\u001b[0m \u001b[0;34m**\u001b[0m\u001b[0mkwargs\u001b[0m\u001b[0;34m)\u001b[0m\u001b[0;34m\u001b[0m\u001b[0;34m\u001b[0m\u001b[0m\n\u001b[1;32m    488\u001b[0m         \u001b[0;32melse\u001b[0m\u001b[0;34m:\u001b[0m\u001b[0;34m\u001b[0m\u001b[0;34m\u001b[0m\u001b[0m\n\u001b[0;32m--> 489\u001b[0;31m             \u001b[0mresult\u001b[0m \u001b[0;34m=\u001b[0m \u001b[0mself\u001b[0m\u001b[0;34m.\u001b[0m\u001b[0mforward\u001b[0m\u001b[0;34m(\u001b[0m\u001b[0;34m*\u001b[0m\u001b[0minput\u001b[0m\u001b[0;34m,\u001b[0m \u001b[0;34m**\u001b[0m\u001b[0mkwargs\u001b[0m\u001b[0;34m)\u001b[0m\u001b[0;34m\u001b[0m\u001b[0;34m\u001b[0m\u001b[0m\n\u001b[0m\u001b[1;32m    490\u001b[0m         \u001b[0;32mfor\u001b[0m \u001b[0mhook\u001b[0m \u001b[0;32min\u001b[0m \u001b[0mself\u001b[0m\u001b[0;34m.\u001b[0m\u001b[0m_forward_hooks\u001b[0m\u001b[0;34m.\u001b[0m\u001b[0mvalues\u001b[0m\u001b[0;34m(\u001b[0m\u001b[0;34m)\u001b[0m\u001b[0;34m:\u001b[0m\u001b[0;34m\u001b[0m\u001b[0;34m\u001b[0m\u001b[0m\n\u001b[1;32m    491\u001b[0m             \u001b[0mhook_result\u001b[0m \u001b[0;34m=\u001b[0m \u001b[0mhook\u001b[0m\u001b[0;34m(\u001b[0m\u001b[0mself\u001b[0m\u001b[0;34m,\u001b[0m \u001b[0minput\u001b[0m\u001b[0;34m,\u001b[0m \u001b[0mresult\u001b[0m\u001b[0;34m)\u001b[0m\u001b[0;34m\u001b[0m\u001b[0;34m\u001b[0m\u001b[0m\n",
            "\u001b[0;32m/content/extractNet_connected_vgg19_bn_leaky.py\u001b[0m in \u001b[0;36mforward\u001b[0;34m(self, img)\u001b[0m\n\u001b[1;32m     61\u001b[0m \u001b[0;34m\u001b[0m\u001b[0m\n\u001b[1;32m     62\u001b[0m                 \u001b[0mout\u001b[0m \u001b[0;34m=\u001b[0m \u001b[0mtorch\u001b[0m\u001b[0;34m.\u001b[0m\u001b[0mcat\u001b[0m\u001b[0;34m(\u001b[0m\u001b[0;34m(\u001b[0m\u001b[0mout\u001b[0m\u001b[0;34m,\u001b[0m \u001b[0mencode_out\u001b[0m\u001b[0;34m[\u001b[0m\u001b[0;34m-\u001b[0m\u001b[0;36m4\u001b[0m\u001b[0;34m]\u001b[0m\u001b[0;34m)\u001b[0m\u001b[0;34m,\u001b[0m\u001b[0;36m1\u001b[0m\u001b[0;34m)\u001b[0m\u001b[0;34m\u001b[0m\u001b[0;34m\u001b[0m\u001b[0m\n\u001b[0;32m---> 63\u001b[0;31m                 \u001b[0mout\u001b[0m \u001b[0;34m=\u001b[0m \u001b[0mF\u001b[0m\u001b[0;34m.\u001b[0m\u001b[0mleaky_relu\u001b[0m\u001b[0;34m(\u001b[0m\u001b[0mself\u001b[0m\u001b[0;34m.\u001b[0m\u001b[0mdeconv4\u001b[0m\u001b[0;34m(\u001b[0m\u001b[0mout\u001b[0m\u001b[0;34m)\u001b[0m\u001b[0;34m,\u001b[0m \u001b[0mself\u001b[0m\u001b[0;34m.\u001b[0m\u001b[0malpha\u001b[0m\u001b[0;34m,\u001b[0m \u001b[0;32mTrue\u001b[0m\u001b[0;34m)\u001b[0m\u001b[0;34m\u001b[0m\u001b[0;34m\u001b[0m\u001b[0m\n\u001b[0m\u001b[1;32m     64\u001b[0m \u001b[0;34m\u001b[0m\u001b[0m\n\u001b[1;32m     65\u001b[0m                 \u001b[0mout\u001b[0m \u001b[0;34m=\u001b[0m \u001b[0mtorch\u001b[0m\u001b[0;34m.\u001b[0m\u001b[0mcat\u001b[0m\u001b[0;34m(\u001b[0m\u001b[0;34m(\u001b[0m\u001b[0mout\u001b[0m\u001b[0;34m,\u001b[0m \u001b[0mencode_out\u001b[0m\u001b[0;34m[\u001b[0m\u001b[0;34m-\u001b[0m\u001b[0;36m5\u001b[0m\u001b[0;34m]\u001b[0m\u001b[0;34m)\u001b[0m\u001b[0;34m,\u001b[0m\u001b[0;36m1\u001b[0m\u001b[0;34m)\u001b[0m\u001b[0;34m\u001b[0m\u001b[0;34m\u001b[0m\u001b[0m\n",
            "\u001b[0;32m/usr/local/lib/python3.6/dist-packages/torch/nn/modules/module.py\u001b[0m in \u001b[0;36m__call__\u001b[0;34m(self, *input, **kwargs)\u001b[0m\n\u001b[1;32m    487\u001b[0m             \u001b[0mresult\u001b[0m \u001b[0;34m=\u001b[0m \u001b[0mself\u001b[0m\u001b[0;34m.\u001b[0m\u001b[0m_slow_forward\u001b[0m\u001b[0;34m(\u001b[0m\u001b[0;34m*\u001b[0m\u001b[0minput\u001b[0m\u001b[0;34m,\u001b[0m \u001b[0;34m**\u001b[0m\u001b[0mkwargs\u001b[0m\u001b[0;34m)\u001b[0m\u001b[0;34m\u001b[0m\u001b[0;34m\u001b[0m\u001b[0m\n\u001b[1;32m    488\u001b[0m         \u001b[0;32melse\u001b[0m\u001b[0;34m:\u001b[0m\u001b[0;34m\u001b[0m\u001b[0;34m\u001b[0m\u001b[0m\n\u001b[0;32m--> 489\u001b[0;31m             \u001b[0mresult\u001b[0m \u001b[0;34m=\u001b[0m \u001b[0mself\u001b[0m\u001b[0;34m.\u001b[0m\u001b[0mforward\u001b[0m\u001b[0;34m(\u001b[0m\u001b[0;34m*\u001b[0m\u001b[0minput\u001b[0m\u001b[0;34m,\u001b[0m \u001b[0;34m**\u001b[0m\u001b[0mkwargs\u001b[0m\u001b[0;34m)\u001b[0m\u001b[0;34m\u001b[0m\u001b[0;34m\u001b[0m\u001b[0m\n\u001b[0m\u001b[1;32m    490\u001b[0m         \u001b[0;32mfor\u001b[0m \u001b[0mhook\u001b[0m \u001b[0;32min\u001b[0m \u001b[0mself\u001b[0m\u001b[0;34m.\u001b[0m\u001b[0m_forward_hooks\u001b[0m\u001b[0;34m.\u001b[0m\u001b[0mvalues\u001b[0m\u001b[0;34m(\u001b[0m\u001b[0;34m)\u001b[0m\u001b[0;34m:\u001b[0m\u001b[0;34m\u001b[0m\u001b[0;34m\u001b[0m\u001b[0m\n\u001b[1;32m    491\u001b[0m             \u001b[0mhook_result\u001b[0m \u001b[0;34m=\u001b[0m \u001b[0mhook\u001b[0m\u001b[0;34m(\u001b[0m\u001b[0mself\u001b[0m\u001b[0;34m,\u001b[0m \u001b[0minput\u001b[0m\u001b[0;34m,\u001b[0m \u001b[0mresult\u001b[0m\u001b[0;34m)\u001b[0m\u001b[0;34m\u001b[0m\u001b[0;34m\u001b[0m\u001b[0m\n",
            "\u001b[0;32m/usr/local/lib/python3.6/dist-packages/torch/nn/modules/conv.py\u001b[0m in \u001b[0;36mforward\u001b[0;34m(self, input, output_size)\u001b[0m\n\u001b[1;32m    755\u001b[0m         return F.conv_transpose2d(\n\u001b[1;32m    756\u001b[0m             \u001b[0minput\u001b[0m\u001b[0;34m,\u001b[0m \u001b[0mself\u001b[0m\u001b[0;34m.\u001b[0m\u001b[0mweight\u001b[0m\u001b[0;34m,\u001b[0m \u001b[0mself\u001b[0m\u001b[0;34m.\u001b[0m\u001b[0mbias\u001b[0m\u001b[0;34m,\u001b[0m \u001b[0mself\u001b[0m\u001b[0;34m.\u001b[0m\u001b[0mstride\u001b[0m\u001b[0;34m,\u001b[0m \u001b[0mself\u001b[0m\u001b[0;34m.\u001b[0m\u001b[0mpadding\u001b[0m\u001b[0;34m,\u001b[0m\u001b[0;34m\u001b[0m\u001b[0;34m\u001b[0m\u001b[0m\n\u001b[0;32m--> 757\u001b[0;31m             output_padding, self.groups, self.dilation)\n\u001b[0m\u001b[1;32m    758\u001b[0m \u001b[0;34m\u001b[0m\u001b[0m\n\u001b[1;32m    759\u001b[0m \u001b[0;34m\u001b[0m\u001b[0m\n",
            "\u001b[0;31mKeyboardInterrupt\u001b[0m: "
          ]
        }
      ]
    },
    {
      "metadata": {
        "id": "VRgy9mdGAOR8",
        "colab_type": "code",
        "colab": {
          "base_uri": "https://localhost:8080/",
          "height": 1088
        },
        "outputId": "11738d82-1078-4778-e777-2d5536da8748"
      },
      "cell_type": "code",
      "source": [
        "#compare to without leaky relu\n",
        "net3 = extractNet_connected_vgg19_bn_leaky(alpha=0.01)\n",
        "net3.to(device)"
      ],
      "execution_count": 35,
      "outputs": [
        {
          "output_type": "execute_result",
          "data": {
            "text/plain": [
              "extractNet_connected_vgg19_bn_leaky(\n",
              "  (vgg_feature): Sequential(\n",
              "    (0): Conv2d(3, 64, kernel_size=(3, 3), stride=(1, 1), padding=(1, 1))\n",
              "    (1): BatchNorm2d(64, eps=1e-05, momentum=0.1, affine=True, track_running_stats=True)\n",
              "    (2): ReLU(inplace)\n",
              "    (3): Conv2d(64, 64, kernel_size=(3, 3), stride=(1, 1), padding=(1, 1))\n",
              "    (4): BatchNorm2d(64, eps=1e-05, momentum=0.1, affine=True, track_running_stats=True)\n",
              "    (5): ReLU(inplace)\n",
              "    (6): MaxPool2d(kernel_size=2, stride=2, padding=0, dilation=1, ceil_mode=False)\n",
              "    (7): Conv2d(64, 128, kernel_size=(3, 3), stride=(1, 1), padding=(1, 1))\n",
              "    (8): BatchNorm2d(128, eps=1e-05, momentum=0.1, affine=True, track_running_stats=True)\n",
              "    (9): ReLU(inplace)\n",
              "    (10): Conv2d(128, 128, kernel_size=(3, 3), stride=(1, 1), padding=(1, 1))\n",
              "    (11): BatchNorm2d(128, eps=1e-05, momentum=0.1, affine=True, track_running_stats=True)\n",
              "    (12): ReLU(inplace)\n",
              "    (13): MaxPool2d(kernel_size=2, stride=2, padding=0, dilation=1, ceil_mode=False)\n",
              "    (14): Conv2d(128, 256, kernel_size=(3, 3), stride=(1, 1), padding=(1, 1))\n",
              "    (15): BatchNorm2d(256, eps=1e-05, momentum=0.1, affine=True, track_running_stats=True)\n",
              "    (16): ReLU(inplace)\n",
              "    (17): Conv2d(256, 256, kernel_size=(3, 3), stride=(1, 1), padding=(1, 1))\n",
              "    (18): BatchNorm2d(256, eps=1e-05, momentum=0.1, affine=True, track_running_stats=True)\n",
              "    (19): ReLU(inplace)\n",
              "    (20): Conv2d(256, 256, kernel_size=(3, 3), stride=(1, 1), padding=(1, 1))\n",
              "    (21): BatchNorm2d(256, eps=1e-05, momentum=0.1, affine=True, track_running_stats=True)\n",
              "    (22): ReLU(inplace)\n",
              "    (23): Conv2d(256, 256, kernel_size=(3, 3), stride=(1, 1), padding=(1, 1))\n",
              "    (24): BatchNorm2d(256, eps=1e-05, momentum=0.1, affine=True, track_running_stats=True)\n",
              "    (25): ReLU(inplace)\n",
              "    (26): MaxPool2d(kernel_size=2, stride=2, padding=0, dilation=1, ceil_mode=False)\n",
              "    (27): Conv2d(256, 512, kernel_size=(3, 3), stride=(1, 1), padding=(1, 1))\n",
              "    (28): BatchNorm2d(512, eps=1e-05, momentum=0.1, affine=True, track_running_stats=True)\n",
              "    (29): ReLU(inplace)\n",
              "    (30): Conv2d(512, 512, kernel_size=(3, 3), stride=(1, 1), padding=(1, 1))\n",
              "    (31): BatchNorm2d(512, eps=1e-05, momentum=0.1, affine=True, track_running_stats=True)\n",
              "    (32): ReLU(inplace)\n",
              "    (33): Conv2d(512, 512, kernel_size=(3, 3), stride=(1, 1), padding=(1, 1))\n",
              "    (34): BatchNorm2d(512, eps=1e-05, momentum=0.1, affine=True, track_running_stats=True)\n",
              "    (35): ReLU(inplace)\n",
              "    (36): Conv2d(512, 512, kernel_size=(3, 3), stride=(1, 1), padding=(1, 1))\n",
              "    (37): BatchNorm2d(512, eps=1e-05, momentum=0.1, affine=True, track_running_stats=True)\n",
              "    (38): ReLU(inplace)\n",
              "    (39): MaxPool2d(kernel_size=2, stride=2, padding=0, dilation=1, ceil_mode=False)\n",
              "    (40): Conv2d(512, 512, kernel_size=(3, 3), stride=(1, 1), padding=(1, 1))\n",
              "    (41): BatchNorm2d(512, eps=1e-05, momentum=0.1, affine=True, track_running_stats=True)\n",
              "    (42): ReLU(inplace)\n",
              "    (43): Conv2d(512, 512, kernel_size=(3, 3), stride=(1, 1), padding=(1, 1))\n",
              "    (44): BatchNorm2d(512, eps=1e-05, momentum=0.1, affine=True, track_running_stats=True)\n",
              "    (45): ReLU(inplace)\n",
              "    (46): Conv2d(512, 512, kernel_size=(3, 3), stride=(1, 1), padding=(1, 1))\n",
              "    (47): BatchNorm2d(512, eps=1e-05, momentum=0.1, affine=True, track_running_stats=True)\n",
              "    (48): ReLU(inplace)\n",
              "    (49): Conv2d(512, 512, kernel_size=(3, 3), stride=(1, 1), padding=(1, 1))\n",
              "    (50): BatchNorm2d(512, eps=1e-05, momentum=0.1, affine=True, track_running_stats=True)\n",
              "    (51): ReLU(inplace)\n",
              "    (52): MaxPool2d(kernel_size=2, stride=2, padding=0, dilation=1, ceil_mode=False)\n",
              "  )\n",
              "  (deconv1): ConvTranspose2d(512, 512, kernel_size=(3, 3), stride=(2, 2), padding=(1, 1), output_padding=(1, 1))\n",
              "  (deconv2): ConvTranspose2d(1024, 256, kernel_size=(3, 3), stride=(2, 2), padding=(1, 1), output_padding=(1, 1))\n",
              "  (deconv3): ConvTranspose2d(512, 128, kernel_size=(3, 3), stride=(2, 2), padding=(1, 1), output_padding=(1, 1))\n",
              "  (deconv4): ConvTranspose2d(256, 64, kernel_size=(3, 3), stride=(2, 2), padding=(1, 1), output_padding=(1, 1))\n",
              "  (deconv5): ConvTranspose2d(128, 3, kernel_size=(3, 3), stride=(2, 2), padding=(1, 1), output_padding=(1, 1))\n",
              "  (deconv6): ConvTranspose2d(6, 1, kernel_size=(3, 3), stride=(1, 1), padding=(1, 1))\n",
              ")"
            ]
          },
          "metadata": {
            "tags": []
          },
          "execution_count": 35
        }
      ]
    },
    {
      "metadata": {
        "id": "Y09mslXiAUaC",
        "colab_type": "code",
        "colab": {
          "base_uri": "https://localhost:8080/",
          "height": 2526
        },
        "outputId": "fe0523d5-aacc-4b7d-fb69-20d7e97f114f"
      },
      "cell_type": "code",
      "source": [
        "trainModel(net3, train, valid, batch_size=batch_size, lr=lr, num_epochs=70, checkpoint=False, device=device)"
      ],
      "execution_count": 36,
      "outputs": [
        {
          "output_type": "stream",
          "text": [
            "Epoch:0, Train IoU:0.3370, Train Loss:0.0115|Valid IoU:0.3375, Valid Loss:0.0154\n",
            "Epoch:1, Train IoU:0.3289, Train Loss:0.0115|Valid IoU:0.3263, Valid Loss:0.0153\n",
            "Epoch:2, Train IoU:0.3751, Train Loss:0.0112|Valid IoU:0.3639, Valid Loss:0.0151\n",
            "Epoch:3, Train IoU:0.4299, Train Loss:0.0108|Valid IoU:0.4038, Valid Loss:0.0147\n",
            "Epoch:4, Train IoU:0.4437, Train Loss:0.0105|Valid IoU:0.4133, Valid Loss:0.0143\n",
            "Epoch:5, Train IoU:0.5442, Train Loss:0.0101|Valid IoU:0.4969, Valid Loss:0.0139\n",
            "Epoch:6, Train IoU:0.5496, Train Loss:0.0098|Valid IoU:0.4885, Valid Loss:0.0134\n",
            "Epoch:7, Train IoU:0.6167, Train Loss:0.0098|Valid IoU:0.5523, Valid Loss:0.0137\n",
            "Epoch:8, Train IoU:0.5805, Train Loss:0.0095|Valid IoU:0.5057, Valid Loss:0.0132\n"
          ],
          "name": "stdout"
        },
        {
          "output_type": "stream",
          "text": [
            "Exception ignored in: <bound method _DataLoaderIter.__del__ of <torch.utils.data.dataloader._DataLoaderIter object at 0x7f66b2ef6898>>\n",
            "Traceback (most recent call last):\n",
            "  File \"/usr/local/lib/python3.6/dist-packages/torch/utils/data/dataloader.py\", line 717, in __del__\n",
            "    self._shutdown_workers()\n",
            "  File \"/usr/local/lib/python3.6/dist-packages/torch/utils/data/dataloader.py\", line 713, in _shutdown_workers\n",
            "    w.join()\n",
            "  File \"/usr/lib/python3.6/multiprocessing/process.py\", line 122, in join\n",
            "    assert self._parent_pid == os.getpid(), 'can only join a child process'\n",
            "AssertionError: can only join a child process\n",
            "Exception ignored in: <bound method _DataLoaderIter.__del__ of <torch.utils.data.dataloader._DataLoaderIter object at 0x7f66b2ef6898>>\n",
            "Traceback (most recent call last):\n",
            "  File \"/usr/local/lib/python3.6/dist-packages/torch/utils/data/dataloader.py\", line 717, in __del__\n",
            "    self._shutdown_workers()\n",
            "  File \"/usr/local/lib/python3.6/dist-packages/torch/utils/data/dataloader.py\", line 713, in _shutdown_workers\n",
            "    w.join()\n",
            "  File \"/usr/lib/python3.6/multiprocessing/process.py\", line 122, in join\n",
            "    assert self._parent_pid == os.getpid(), 'can only join a child process'\n",
            "AssertionError: can only join a child process\n"
          ],
          "name": "stderr"
        },
        {
          "output_type": "stream",
          "text": [
            "Epoch:9, Train IoU:0.6553, Train Loss:0.0097|Valid IoU:0.5722, Valid Loss:0.0135\n",
            "Epoch:10, Train IoU:0.6533, Train Loss:0.0093|Valid IoU:0.5624, Valid Loss:0.0130\n",
            "Epoch:11, Train IoU:0.6769, Train Loss:0.0093|Valid IoU:0.5837, Valid Loss:0.0131\n",
            "Epoch:12, Train IoU:0.7029, Train Loss:0.0092|Valid IoU:0.5977, Valid Loss:0.0130\n",
            "Epoch:13, Train IoU:0.7447, Train Loss:0.0091|Valid IoU:0.6180, Valid Loss:0.0130\n"
          ],
          "name": "stdout"
        },
        {
          "output_type": "stream",
          "text": [
            "Exception ignored in: <bound method _DataLoaderIter.__del__ of <torch.utils.data.dataloader._DataLoaderIter object at 0x7f66b2ef6898>>\n",
            "Traceback (most recent call last):\n",
            "  File \"/usr/local/lib/python3.6/dist-packages/torch/utils/data/dataloader.py\", line 717, in __del__\n",
            "    self._shutdown_workers()\n",
            "  File \"/usr/local/lib/python3.6/dist-packages/torch/utils/data/dataloader.py\", line 713, in _shutdown_workers\n",
            "    w.join()\n",
            "  File \"/usr/lib/python3.6/multiprocessing/process.py\", line 122, in join\n",
            "    assert self._parent_pid == os.getpid(), 'can only join a child process'\n",
            "AssertionError: can only join a child process\n"
          ],
          "name": "stderr"
        },
        {
          "output_type": "stream",
          "text": [
            "Epoch:14, Train IoU:0.7592, Train Loss:0.0089|Valid IoU:0.6259, Valid Loss:0.0129\n"
          ],
          "name": "stdout"
        },
        {
          "output_type": "stream",
          "text": [
            "Exception ignored in: <bound method _DataLoaderIter.__del__ of <torch.utils.data.dataloader._DataLoaderIter object at 0x7f66b2ef6898>>\n",
            "Traceback (most recent call last):\n",
            "  File \"/usr/local/lib/python3.6/dist-packages/torch/utils/data/dataloader.py\", line 717, in __del__\n",
            "    self._shutdown_workers()\n",
            "  File \"/usr/local/lib/python3.6/dist-packages/torch/utils/data/dataloader.py\", line 713, in _shutdown_workers\n",
            "    w.join()\n",
            "  File \"/usr/lib/python3.6/multiprocessing/process.py\", line 122, in join\n",
            "    assert self._parent_pid == os.getpid(), 'can only join a child process'\n",
            "AssertionError: can only join a child process\n",
            "Exception ignored in: <bound method _DataLoaderIter.__del__ of <torch.utils.data.dataloader._DataLoaderIter object at 0x7f66b2ef6898>>\n",
            "Traceback (most recent call last):\n",
            "  File \"/usr/local/lib/python3.6/dist-packages/torch/utils/data/dataloader.py\", line 717, in __del__\n",
            "    self._shutdown_workers()\n",
            "  File \"/usr/local/lib/python3.6/dist-packages/torch/utils/data/dataloader.py\", line 713, in _shutdown_workers\n",
            "    w.join()\n",
            "  File \"/usr/lib/python3.6/multiprocessing/process.py\", line 122, in join\n",
            "    assert self._parent_pid == os.getpid(), 'can only join a child process'\n",
            "AssertionError: can only join a child process\n",
            "Exception ignored in: <bound method _DataLoaderIter.__del__ of <torch.utils.data.dataloader._DataLoaderIter object at 0x7f66b2ef6898>>\n",
            "Traceback (most recent call last):\n",
            "  File \"/usr/local/lib/python3.6/dist-packages/torch/utils/data/dataloader.py\", line 717, in __del__\n",
            "    self._shutdown_workers()\n",
            "  File \"/usr/local/lib/python3.6/dist-packages/torch/utils/data/dataloader.py\", line 713, in _shutdown_workers\n",
            "    w.join()\n",
            "  File \"/usr/lib/python3.6/multiprocessing/process.py\", line 122, in join\n",
            "    assert self._parent_pid == os.getpid(), 'can only join a child process'\n",
            "AssertionError: can only join a child process\n"
          ],
          "name": "stderr"
        },
        {
          "output_type": "stream",
          "text": [
            "Epoch:15, Train IoU:0.7918, Train Loss:0.0088|Valid IoU:0.6376, Valid Loss:0.0127\n"
          ],
          "name": "stdout"
        },
        {
          "output_type": "stream",
          "text": [
            "Exception ignored in: <bound method _DataLoaderIter.__del__ of <torch.utils.data.dataloader._DataLoaderIter object at 0x7f66b2ef6898>>\n",
            "Traceback (most recent call last):\n",
            "  File \"/usr/local/lib/python3.6/dist-packages/torch/utils/data/dataloader.py\", line 717, in __del__\n",
            "    self._shutdown_workers()\n",
            "  File \"/usr/local/lib/python3.6/dist-packages/torch/utils/data/dataloader.py\", line 713, in _shutdown_workers\n",
            "    w.join()\n",
            "  File \"/usr/lib/python3.6/multiprocessing/process.py\", line 122, in join\n",
            "    assert self._parent_pid == os.getpid(), 'can only join a child process'\n",
            "AssertionError: can only join a child process\n"
          ],
          "name": "stderr"
        },
        {
          "output_type": "stream",
          "text": [
            "Epoch:16, Train IoU:0.7598, Train Loss:0.0087|Valid IoU:0.6027, Valid Loss:0.0126\n",
            "Epoch:17, Train IoU:0.8077, Train Loss:0.0088|Valid IoU:0.6631, Valid Loss:0.0129\n",
            "Epoch:18, Train IoU:0.7620, Train Loss:0.0087|Valid IoU:0.5980, Valid Loss:0.0126\n",
            "Epoch:19, Train IoU:0.7997, Train Loss:0.0089|Valid IoU:0.6547, Valid Loss:0.0131\n"
          ],
          "name": "stdout"
        },
        {
          "output_type": "error",
          "ename": "KeyboardInterrupt",
          "evalue": "ignored",
          "traceback": [
            "\u001b[0;31m---------------------------------------------------------------------------\u001b[0m",
            "\u001b[0;31mKeyboardInterrupt\u001b[0m                         Traceback (most recent call last)",
            "\u001b[0;32m<ipython-input-36-1cc81b5cecff>\u001b[0m in \u001b[0;36m<module>\u001b[0;34m()\u001b[0m\n\u001b[0;32m----> 1\u001b[0;31m \u001b[0mtrainModel\u001b[0m\u001b[0;34m(\u001b[0m\u001b[0mnet3\u001b[0m\u001b[0;34m,\u001b[0m \u001b[0mtrain\u001b[0m\u001b[0;34m,\u001b[0m \u001b[0mvalid\u001b[0m\u001b[0;34m,\u001b[0m \u001b[0mbatch_size\u001b[0m\u001b[0;34m=\u001b[0m\u001b[0mbatch_size\u001b[0m\u001b[0;34m,\u001b[0m \u001b[0mlr\u001b[0m\u001b[0;34m=\u001b[0m\u001b[0mlr\u001b[0m\u001b[0;34m,\u001b[0m \u001b[0mnum_epochs\u001b[0m\u001b[0;34m=\u001b[0m\u001b[0;36m70\u001b[0m\u001b[0;34m,\u001b[0m \u001b[0mcheckpoint\u001b[0m\u001b[0;34m=\u001b[0m\u001b[0;32mFalse\u001b[0m\u001b[0;34m,\u001b[0m \u001b[0mdevice\u001b[0m\u001b[0;34m=\u001b[0m\u001b[0mdevice\u001b[0m\u001b[0;34m)\u001b[0m\u001b[0;34m\u001b[0m\u001b[0;34m\u001b[0m\u001b[0m\n\u001b[0m",
            "\u001b[0;32m/content/trainer.py\u001b[0m in \u001b[0;36mtrainModel\u001b[0;34m(model, train_loader, valid_loader, batch_size, lr, num_epochs, out_suppress, checkpoint, save_model, device)\u001b[0m\n\u001b[1;32m     57\u001b[0m                 \u001b[0;31m# (which is also computed using the weights at the end of the epoch)\u001b[0m\u001b[0;34m\u001b[0m\u001b[0;34m\u001b[0m\u001b[0;34m\u001b[0m\u001b[0m\n\u001b[1;32m     58\u001b[0m                         \u001b[0mtrain_loss\u001b[0m\u001b[0;34m[\u001b[0m\u001b[0mepoch\u001b[0m\u001b[0;34m]\u001b[0m \u001b[0;34m=\u001b[0m \u001b[0mgetLoss\u001b[0m\u001b[0;34m(\u001b[0m\u001b[0mmodel\u001b[0m\u001b[0;34m,\u001b[0m \u001b[0mtrain_loader\u001b[0m\u001b[0;34m,\u001b[0m \u001b[0mcriterion\u001b[0m\u001b[0;34m,\u001b[0m \u001b[0mdevice\u001b[0m\u001b[0;34m)\u001b[0m\u001b[0;34m\u001b[0m\u001b[0;34m\u001b[0m\u001b[0m\n\u001b[0;32m---> 59\u001b[0;31m                         \u001b[0mtrain_acc\u001b[0m\u001b[0;34m[\u001b[0m\u001b[0mepoch\u001b[0m\u001b[0;34m]\u001b[0m \u001b[0;34m=\u001b[0m \u001b[0mcalculateTotalIoU\u001b[0m\u001b[0;34m(\u001b[0m\u001b[0mmodel\u001b[0m\u001b[0;34m,\u001b[0m \u001b[0mtrain_loader\u001b[0m\u001b[0;34m,\u001b[0m \u001b[0mdevice\u001b[0m\u001b[0;34m)\u001b[0m\u001b[0;34m\u001b[0m\u001b[0;34m\u001b[0m\u001b[0m\n\u001b[0m\u001b[1;32m     60\u001b[0m                         \u001b[0mvalid_loss\u001b[0m\u001b[0;34m[\u001b[0m\u001b[0mepoch\u001b[0m\u001b[0;34m]\u001b[0m \u001b[0;34m=\u001b[0m \u001b[0mgetLoss\u001b[0m\u001b[0;34m(\u001b[0m\u001b[0mmodel\u001b[0m\u001b[0;34m,\u001b[0m \u001b[0mvalid_loader\u001b[0m\u001b[0;34m,\u001b[0m \u001b[0mcriterion\u001b[0m\u001b[0;34m,\u001b[0m \u001b[0mdevice\u001b[0m\u001b[0;34m)\u001b[0m\u001b[0;34m\u001b[0m\u001b[0;34m\u001b[0m\u001b[0m\n\u001b[1;32m     61\u001b[0m                         \u001b[0mvalid_acc\u001b[0m\u001b[0;34m[\u001b[0m\u001b[0mepoch\u001b[0m\u001b[0;34m]\u001b[0m \u001b[0;34m=\u001b[0m \u001b[0mcalculateTotalIoU\u001b[0m\u001b[0;34m(\u001b[0m\u001b[0mmodel\u001b[0m\u001b[0;34m,\u001b[0m \u001b[0mvalid_loader\u001b[0m\u001b[0;34m,\u001b[0m \u001b[0mdevice\u001b[0m\u001b[0;34m)\u001b[0m\u001b[0;34m\u001b[0m\u001b[0;34m\u001b[0m\u001b[0m\n",
            "\u001b[0;32m/content/metrics.py\u001b[0m in \u001b[0;36mcalculateTotalIoU\u001b[0;34m(model, data_loader, device)\u001b[0m\n\u001b[1;32m     39\u001b[0m         \u001b[0mnum_data\u001b[0m \u001b[0;34m=\u001b[0m \u001b[0;36m0\u001b[0m\u001b[0;34m\u001b[0m\u001b[0;34m\u001b[0m\u001b[0m\n\u001b[1;32m     40\u001b[0m \u001b[0;34m\u001b[0m\u001b[0m\n\u001b[0;32m---> 41\u001b[0;31m         \u001b[0;32mfor\u001b[0m \u001b[0mi\u001b[0m\u001b[0;34m,\u001b[0m \u001b[0mbatch\u001b[0m \u001b[0;32min\u001b[0m \u001b[0menumerate\u001b[0m\u001b[0;34m(\u001b[0m\u001b[0mdata_loader\u001b[0m\u001b[0;34m)\u001b[0m\u001b[0;34m:\u001b[0m\u001b[0;34m\u001b[0m\u001b[0;34m\u001b[0m\u001b[0m\n\u001b[0m\u001b[1;32m     42\u001b[0m                 \u001b[0mimg\u001b[0m\u001b[0;34m,\u001b[0m \u001b[0mtarget\u001b[0m \u001b[0;34m=\u001b[0m \u001b[0mbatch\u001b[0m\u001b[0;34m\u001b[0m\u001b[0;34m\u001b[0m\u001b[0m\n\u001b[1;32m     43\u001b[0m \u001b[0;34m\u001b[0m\u001b[0m\n",
            "\u001b[0;32m/usr/local/lib/python3.6/dist-packages/torch/utils/data/dataloader.py\u001b[0m in \u001b[0;36m__next__\u001b[0;34m(self)\u001b[0m\n\u001b[1;32m    629\u001b[0m         \u001b[0;32mwhile\u001b[0m \u001b[0;32mTrue\u001b[0m\u001b[0;34m:\u001b[0m\u001b[0;34m\u001b[0m\u001b[0;34m\u001b[0m\u001b[0m\n\u001b[1;32m    630\u001b[0m             \u001b[0;32massert\u001b[0m \u001b[0;34m(\u001b[0m\u001b[0;32mnot\u001b[0m \u001b[0mself\u001b[0m\u001b[0;34m.\u001b[0m\u001b[0mshutdown\u001b[0m \u001b[0;32mand\u001b[0m \u001b[0mself\u001b[0m\u001b[0;34m.\u001b[0m\u001b[0mbatches_outstanding\u001b[0m \u001b[0;34m>\u001b[0m \u001b[0;36m0\u001b[0m\u001b[0;34m)\u001b[0m\u001b[0;34m\u001b[0m\u001b[0;34m\u001b[0m\u001b[0m\n\u001b[0;32m--> 631\u001b[0;31m             \u001b[0midx\u001b[0m\u001b[0;34m,\u001b[0m \u001b[0mbatch\u001b[0m \u001b[0;34m=\u001b[0m \u001b[0mself\u001b[0m\u001b[0;34m.\u001b[0m\u001b[0m_get_batch\u001b[0m\u001b[0;34m(\u001b[0m\u001b[0;34m)\u001b[0m\u001b[0;34m\u001b[0m\u001b[0;34m\u001b[0m\u001b[0m\n\u001b[0m\u001b[1;32m    632\u001b[0m             \u001b[0mself\u001b[0m\u001b[0;34m.\u001b[0m\u001b[0mbatches_outstanding\u001b[0m \u001b[0;34m-=\u001b[0m \u001b[0;36m1\u001b[0m\u001b[0;34m\u001b[0m\u001b[0;34m\u001b[0m\u001b[0m\n\u001b[1;32m    633\u001b[0m             \u001b[0;32mif\u001b[0m \u001b[0midx\u001b[0m \u001b[0;34m!=\u001b[0m \u001b[0mself\u001b[0m\u001b[0;34m.\u001b[0m\u001b[0mrcvd_idx\u001b[0m\u001b[0;34m:\u001b[0m\u001b[0;34m\u001b[0m\u001b[0;34m\u001b[0m\u001b[0m\n",
            "\u001b[0;32m/usr/local/lib/python3.6/dist-packages/torch/utils/data/dataloader.py\u001b[0m in \u001b[0;36m_get_batch\u001b[0;34m(self)\u001b[0m\n\u001b[1;32m    608\u001b[0m             \u001b[0;31m# need to call `.task_done()` because we don't use `.join()`.\u001b[0m\u001b[0;34m\u001b[0m\u001b[0;34m\u001b[0m\u001b[0;34m\u001b[0m\u001b[0m\n\u001b[1;32m    609\u001b[0m         \u001b[0;32melse\u001b[0m\u001b[0;34m:\u001b[0m\u001b[0;34m\u001b[0m\u001b[0;34m\u001b[0m\u001b[0m\n\u001b[0;32m--> 610\u001b[0;31m             \u001b[0;32mreturn\u001b[0m \u001b[0mself\u001b[0m\u001b[0;34m.\u001b[0m\u001b[0mdata_queue\u001b[0m\u001b[0;34m.\u001b[0m\u001b[0mget\u001b[0m\u001b[0;34m(\u001b[0m\u001b[0;34m)\u001b[0m\u001b[0;34m\u001b[0m\u001b[0;34m\u001b[0m\u001b[0m\n\u001b[0m\u001b[1;32m    611\u001b[0m \u001b[0;34m\u001b[0m\u001b[0m\n\u001b[1;32m    612\u001b[0m     \u001b[0;32mdef\u001b[0m \u001b[0m__next__\u001b[0m\u001b[0;34m(\u001b[0m\u001b[0mself\u001b[0m\u001b[0;34m)\u001b[0m\u001b[0;34m:\u001b[0m\u001b[0;34m\u001b[0m\u001b[0;34m\u001b[0m\u001b[0m\n",
            "\u001b[0;32m/usr/lib/python3.6/multiprocessing/queues.py\u001b[0m in \u001b[0;36mget\u001b[0;34m(self, block, timeout)\u001b[0m\n\u001b[1;32m     92\u001b[0m         \u001b[0;32mif\u001b[0m \u001b[0mblock\u001b[0m \u001b[0;32mand\u001b[0m \u001b[0mtimeout\u001b[0m \u001b[0;32mis\u001b[0m \u001b[0;32mNone\u001b[0m\u001b[0;34m:\u001b[0m\u001b[0;34m\u001b[0m\u001b[0;34m\u001b[0m\u001b[0m\n\u001b[1;32m     93\u001b[0m             \u001b[0;32mwith\u001b[0m \u001b[0mself\u001b[0m\u001b[0;34m.\u001b[0m\u001b[0m_rlock\u001b[0m\u001b[0;34m:\u001b[0m\u001b[0;34m\u001b[0m\u001b[0;34m\u001b[0m\u001b[0m\n\u001b[0;32m---> 94\u001b[0;31m                 \u001b[0mres\u001b[0m \u001b[0;34m=\u001b[0m \u001b[0mself\u001b[0m\u001b[0;34m.\u001b[0m\u001b[0m_recv_bytes\u001b[0m\u001b[0;34m(\u001b[0m\u001b[0;34m)\u001b[0m\u001b[0;34m\u001b[0m\u001b[0;34m\u001b[0m\u001b[0m\n\u001b[0m\u001b[1;32m     95\u001b[0m             \u001b[0mself\u001b[0m\u001b[0;34m.\u001b[0m\u001b[0m_sem\u001b[0m\u001b[0;34m.\u001b[0m\u001b[0mrelease\u001b[0m\u001b[0;34m(\u001b[0m\u001b[0;34m)\u001b[0m\u001b[0;34m\u001b[0m\u001b[0;34m\u001b[0m\u001b[0m\n\u001b[1;32m     96\u001b[0m         \u001b[0;32melse\u001b[0m\u001b[0;34m:\u001b[0m\u001b[0;34m\u001b[0m\u001b[0;34m\u001b[0m\u001b[0m\n",
            "\u001b[0;32m/usr/lib/python3.6/multiprocessing/connection.py\u001b[0m in \u001b[0;36mrecv_bytes\u001b[0;34m(self, maxlength)\u001b[0m\n\u001b[1;32m    214\u001b[0m         \u001b[0;32mif\u001b[0m \u001b[0mmaxlength\u001b[0m \u001b[0;32mis\u001b[0m \u001b[0;32mnot\u001b[0m \u001b[0;32mNone\u001b[0m \u001b[0;32mand\u001b[0m \u001b[0mmaxlength\u001b[0m \u001b[0;34m<\u001b[0m \u001b[0;36m0\u001b[0m\u001b[0;34m:\u001b[0m\u001b[0;34m\u001b[0m\u001b[0;34m\u001b[0m\u001b[0m\n\u001b[1;32m    215\u001b[0m             \u001b[0;32mraise\u001b[0m \u001b[0mValueError\u001b[0m\u001b[0;34m(\u001b[0m\u001b[0;34m\"negative maxlength\"\u001b[0m\u001b[0;34m)\u001b[0m\u001b[0;34m\u001b[0m\u001b[0;34m\u001b[0m\u001b[0m\n\u001b[0;32m--> 216\u001b[0;31m         \u001b[0mbuf\u001b[0m \u001b[0;34m=\u001b[0m \u001b[0mself\u001b[0m\u001b[0;34m.\u001b[0m\u001b[0m_recv_bytes\u001b[0m\u001b[0;34m(\u001b[0m\u001b[0mmaxlength\u001b[0m\u001b[0;34m)\u001b[0m\u001b[0;34m\u001b[0m\u001b[0;34m\u001b[0m\u001b[0m\n\u001b[0m\u001b[1;32m    217\u001b[0m         \u001b[0;32mif\u001b[0m \u001b[0mbuf\u001b[0m \u001b[0;32mis\u001b[0m \u001b[0;32mNone\u001b[0m\u001b[0;34m:\u001b[0m\u001b[0;34m\u001b[0m\u001b[0;34m\u001b[0m\u001b[0m\n\u001b[1;32m    218\u001b[0m             \u001b[0mself\u001b[0m\u001b[0;34m.\u001b[0m\u001b[0m_bad_message_length\u001b[0m\u001b[0;34m(\u001b[0m\u001b[0;34m)\u001b[0m\u001b[0;34m\u001b[0m\u001b[0;34m\u001b[0m\u001b[0m\n",
            "\u001b[0;32m/usr/lib/python3.6/multiprocessing/connection.py\u001b[0m in \u001b[0;36m_recv_bytes\u001b[0;34m(self, maxsize)\u001b[0m\n\u001b[1;32m    405\u001b[0m \u001b[0;34m\u001b[0m\u001b[0m\n\u001b[1;32m    406\u001b[0m     \u001b[0;32mdef\u001b[0m \u001b[0m_recv_bytes\u001b[0m\u001b[0;34m(\u001b[0m\u001b[0mself\u001b[0m\u001b[0;34m,\u001b[0m \u001b[0mmaxsize\u001b[0m\u001b[0;34m=\u001b[0m\u001b[0;32mNone\u001b[0m\u001b[0;34m)\u001b[0m\u001b[0;34m:\u001b[0m\u001b[0;34m\u001b[0m\u001b[0;34m\u001b[0m\u001b[0m\n\u001b[0;32m--> 407\u001b[0;31m         \u001b[0mbuf\u001b[0m \u001b[0;34m=\u001b[0m \u001b[0mself\u001b[0m\u001b[0;34m.\u001b[0m\u001b[0m_recv\u001b[0m\u001b[0;34m(\u001b[0m\u001b[0;36m4\u001b[0m\u001b[0;34m)\u001b[0m\u001b[0;34m\u001b[0m\u001b[0;34m\u001b[0m\u001b[0m\n\u001b[0m\u001b[1;32m    408\u001b[0m         \u001b[0msize\u001b[0m\u001b[0;34m,\u001b[0m \u001b[0;34m=\u001b[0m \u001b[0mstruct\u001b[0m\u001b[0;34m.\u001b[0m\u001b[0munpack\u001b[0m\u001b[0;34m(\u001b[0m\u001b[0;34m\"!i\"\u001b[0m\u001b[0;34m,\u001b[0m \u001b[0mbuf\u001b[0m\u001b[0;34m.\u001b[0m\u001b[0mgetvalue\u001b[0m\u001b[0;34m(\u001b[0m\u001b[0;34m)\u001b[0m\u001b[0;34m)\u001b[0m\u001b[0;34m\u001b[0m\u001b[0;34m\u001b[0m\u001b[0m\n\u001b[1;32m    409\u001b[0m         \u001b[0;32mif\u001b[0m \u001b[0mmaxsize\u001b[0m \u001b[0;32mis\u001b[0m \u001b[0;32mnot\u001b[0m \u001b[0;32mNone\u001b[0m \u001b[0;32mand\u001b[0m \u001b[0msize\u001b[0m \u001b[0;34m>\u001b[0m \u001b[0mmaxsize\u001b[0m\u001b[0;34m:\u001b[0m\u001b[0;34m\u001b[0m\u001b[0;34m\u001b[0m\u001b[0m\n",
            "\u001b[0;32m/usr/lib/python3.6/multiprocessing/connection.py\u001b[0m in \u001b[0;36m_recv\u001b[0;34m(self, size, read)\u001b[0m\n\u001b[1;32m    377\u001b[0m         \u001b[0mremaining\u001b[0m \u001b[0;34m=\u001b[0m \u001b[0msize\u001b[0m\u001b[0;34m\u001b[0m\u001b[0;34m\u001b[0m\u001b[0m\n\u001b[1;32m    378\u001b[0m         \u001b[0;32mwhile\u001b[0m \u001b[0mremaining\u001b[0m \u001b[0;34m>\u001b[0m \u001b[0;36m0\u001b[0m\u001b[0;34m:\u001b[0m\u001b[0;34m\u001b[0m\u001b[0;34m\u001b[0m\u001b[0m\n\u001b[0;32m--> 379\u001b[0;31m             \u001b[0mchunk\u001b[0m \u001b[0;34m=\u001b[0m \u001b[0mread\u001b[0m\u001b[0;34m(\u001b[0m\u001b[0mhandle\u001b[0m\u001b[0;34m,\u001b[0m \u001b[0mremaining\u001b[0m\u001b[0;34m)\u001b[0m\u001b[0;34m\u001b[0m\u001b[0;34m\u001b[0m\u001b[0m\n\u001b[0m\u001b[1;32m    380\u001b[0m             \u001b[0mn\u001b[0m \u001b[0;34m=\u001b[0m \u001b[0mlen\u001b[0m\u001b[0;34m(\u001b[0m\u001b[0mchunk\u001b[0m\u001b[0;34m)\u001b[0m\u001b[0;34m\u001b[0m\u001b[0;34m\u001b[0m\u001b[0m\n\u001b[1;32m    381\u001b[0m             \u001b[0;32mif\u001b[0m \u001b[0mn\u001b[0m \u001b[0;34m==\u001b[0m \u001b[0;36m0\u001b[0m\u001b[0;34m:\u001b[0m\u001b[0;34m\u001b[0m\u001b[0;34m\u001b[0m\u001b[0m\n",
            "\u001b[0;31mKeyboardInterrupt\u001b[0m: "
          ]
        }
      ]
    },
    {
      "metadata": {
        "id": "_Gp7OKANA8N3",
        "colab_type": "code",
        "outputId": "7098a91f-07ac-4c8d-8eb5-914dc1eed400",
        "colab": {
          "base_uri": "https://localhost:8080/",
          "height": 1035
        }
      },
      "cell_type": "code",
      "source": [
        "# After training (train set)\n",
        "img, target = train_data[0]\n",
        "target = target.squeeze(0).detach().numpy()\n",
        "out = torch.sigmoid(net(img.unsqueeze(0)))\n",
        "out = out.squeeze(0).squeeze(0).detach().numpy()\n",
        "out = thresholdProbMask(out)\n",
        "denoised = denoise(out)\n",
        "\n",
        "imshow(target)\n",
        "imshow(out)\n",
        "imshow(denoised)"
      ],
      "execution_count": 0,
      "outputs": [
        {
          "output_type": "display_data",
          "data": {
            "image/png": "[encoded data removed]",
            "text/plain": [
              "<Figure size 576x396 with 1 Axes>"
            ]
          },
          "metadata": {
            "tags": []
          }
        },
        {
          "output_type": "display_data",
          "data": {
            "image/png": "[encoded data removed]",
            "text/plain": [
              "<Figure size 576x396 with 1 Axes>"
            ]
          },
          "metadata": {
            "tags": []
          }
        },
        {
          "output_type": "display_data",
          "data": {
            "image/png": "[encoded data removed]",
            "text/plain": [
              "<Figure size 576x396 with 1 Axes>"
            ]
          },
          "metadata": {
            "tags": []
          }
        },
        {
          "output_type": "display_data",
          "data": {
            "text/plain": [
              "<Figure size 576x396 with 0 Axes>"
            ]
          },
          "metadata": {
            "tags": []
          }
        }
      ]
    },
    {
      "metadata": {
        "id": "f9SvlxYzsdFB",
        "colab_type": "code",
        "outputId": "d5104b1c-36de-4740-ba55-d8d0d59ec928",
        "colab": {
          "base_uri": "https://localhost:8080/",
          "height": 1035
        }
      },
      "cell_type": "code",
      "source": [
        "# After training (validation set)\n",
        "img, target = valid_data[0]\n",
        "target = target.squeeze(0).detach().numpy()\n",
        "out = torch.sigmoid(net(img.unsqueeze(0)))\n",
        "out = out.squeeze(0).squeeze(0).detach().numpy()\n",
        "out = thresholdProbMask(out)\n",
        "denoised = denoise(out)\n",
        "\n",
        "imshow(target)\n",
        "imshow(out)\n",
        "imshow(denoised)"
      ],
      "execution_count": 0,
      "outputs": [
        {
          "output_type": "display_data",
          "data": {
            "image/png": "[encoded data removed]",
            "text/plain": [
              "<Figure size 576x396 with 1 Axes>"
            ]
          },
          "metadata": {
            "tags": []
          }
        },
        {
          "output_type": "display_data",
          "data": {
            "image/png": "[encoded data removed]",
            "text/plain": [
              "<Figure size 576x396 with 1 Axes>"
            ]
          },
          "metadata": {
            "tags": []
          }
        },
        {
          "output_type": "display_data",
          "data": {
            "image/png": "[encoded data removed]",
            "text/plain": [
              "<Figure size 576x396 with 1 Axes>"
            ]
          },
          "metadata": {
            "tags": []
          }
        },
        {
          "output_type": "display_data",
          "data": {
            "text/plain": [
              "<Figure size 576x396 with 0 Axes>"
            ]
          },
          "metadata": {
            "tags": []
          }
        }
      ]
    },
    {
      "metadata": {
        "id": "FzA-YfvRKwWh",
        "colab_type": "code",
        "colab": {}
      },
      "cell_type": "code",
      "source": [
        ""
      ],
      "execution_count": 0,
      "outputs": []
    }
  ]
}