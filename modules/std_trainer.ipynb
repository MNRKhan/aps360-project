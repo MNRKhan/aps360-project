{
 "cells": [
  {
   "cell_type": "code",
   "execution_count": null,
   "metadata": {
    "colab": {
     "base_uri": "https://localhost:8080/",
     "height": 2757
    },
    "colab_type": "code",
    "id": "Wx3nOpUi02-L",
    "outputId": "156afbce-d1db-40b4-ff54-ab2534bcffca"
   },
   "outputs": [],
   "source": [
    "!wget https://github.com/MNRKhan/aps360-project/raw/master/modules/data_loader.py\n",
    "!wget https://github.com/MNRKhan/aps360-project/raw/master/modules/extractNet_connected_vgg11.py\n",
    "!wget https://github.com/MNRKhan/aps360-project/raw/master/modules/helper.py\n",
    "!wget https://github.com/MNRKhan/aps360-project/raw/master/modules/metrics.py\n",
    "!wget https://github.com/MNRKhan/aps360-project/raw/master/modules/trainer.py\n",
    "!wget https://github.com/MNRKhan/aps360-project/raw/master/modules/visualizer.py"
   ]
  },
  {
   "cell_type": "code",
   "execution_count": null,
   "metadata": {
    "colab": {},
    "colab_type": "code",
    "id": "dXCEOX-qCANF"
   },
   "outputs": [],
   "source": [
    "import numpy as np\n",
    "import random\n",
    "import torch\n",
    "from torch.utils.data import DataLoader\n",
    "from torchvision import transforms\n",
    "\n",
    "from data_loader import *\n",
    "from extractNet_connected_vgg11 import *\n",
    "from helper import *\n",
    "from metrics import *\n",
    "from trainer import *\n",
    "from visualizer import *"
   ]
  },
  {
   "cell_type": "code",
   "execution_count": null,
   "metadata": {
    "colab": {
     "base_uri": "https://localhost:8080/",
     "height": 337555
    },
    "colab_type": "code",
    "id": "-CsW_KtgBqTj",
    "outputId": "902c9387-70b7-4f13-f245-f0c78d363a33"
   },
   "outputs": [],
   "source": [
    "!rm -rf __MACOSX\n",
    "!rm -rf *.zip\n",
    "!wget https://github.com/MNRKhan/aps360-project/raw/master/datasets/train2014/data_person_vehicle.zip\n",
    "!unzip data_person_vehicle.zip\n",
    "!rm -rf __MACOSX\n",
    "!rm -rf *.zip"
   ]
  },
  {
   "cell_type": "code",
   "execution_count": null,
   "metadata": {
    "colab": {},
    "colab_type": "code",
    "id": "IJBBRTKE8RJU"
   },
   "outputs": [],
   "source": [
    "batch_size = 64\n",
    "lr = 0.001"
   ]
  },
  {
   "cell_type": "code",
   "execution_count": null,
   "metadata": {
    "colab": {},
    "colab_type": "code",
    "id": "cw4052i7RyQX"
   },
   "outputs": [],
   "source": [
    "# Set random seeds\n",
    "torch.manual_seed(360)\n",
    "np.random.seed(360)\n",
    "random.seed(360)\n",
    "\n",
    "# Form dataset\n",
    "transform = transforms.Compose([transforms.ToTensor(), transforms.Normalize((0.5, 0.5, 0.5), (0.5, 0.5, 0.5))])\n",
    "dataset = ImageMaskDataset(\"./data\", transform, size=1000)\n",
    "\n",
    "# Dataset sizes\n",
    "size = len(dataset)\n",
    "train_size = int(0.6 * size)\n",
    "valid_size = int(0.2 * size)\n",
    "test_size = size - train_size - valid_size\n",
    "\n",
    "batch_size = 64\n",
    "\n",
    "# Splitting datasets\n",
    "train_data, valid_data, test_data = torch.utils.data.random_split(dataset, [train_size, valid_size, test_size])\n",
    "\n",
    "# Making dataloader\n",
    "train = DataLoader(train_data, batch_size=batch_size, shuffle=True, num_workers=0, drop_last=True)\n",
    "valid = DataLoader(valid_data, batch_size=batch_size, shuffle=True, num_workers=0)"
   ]
  },
  {
   "cell_type": "code",
   "execution_count": null,
   "metadata": {},
   "outputs": [],
   "source": [
    "print(\"Full data set: \", size)\n",
    "print(\"Training size: \", train_size)\n",
    "print(\"Validation size: \", valid_size)"
   ]
  },
  {
   "cell_type": "code",
   "execution_count": null,
   "metadata": {
    "colab": {},
    "colab_type": "code",
    "id": "Z1xCy6pQ07W3"
   },
   "outputs": [],
   "source": [
    "device = torch.device(\"cuda:0\" if torch.cuda.is_available() else \"cpu\")\n",
    "print(\"Model is being trained on:\", device)\n",
    "torch.cuda.empty_cache()"
   ]
  },
  {
   "cell_type": "code",
   "execution_count": null,
   "metadata": {},
   "outputs": [],
   "source": [
    "model = extractNet_connected_vgg11()\n",
    "model.to(device)"
   ]
  },
  {
   "cell_type": "code",
   "execution_count": null,
   "metadata": {},
   "outputs": [],
   "source": [
    "# Train\n",
    "trainModel(model, train, valid, batch_size=batch_size, lr=lr, num_epochs=80, checkpoint=False, device=device)"
   ]
  },
  {
   "cell_type": "code",
   "execution_count": null,
   "metadata": {},
   "outputs": [],
   "source": [
    "model = model.eval()\n",
    "model.to(\"cpu\")\n",
    "torch.save(model.state_dict(), \"epoch80\")\n",
    "model_state = torch.load(\"epoch80\")"
   ]
  },
  {
   "cell_type": "code",
   "execution_count": null,
   "metadata": {},
   "outputs": [],
   "source": [
    "model.to(\"cpu\")\n",
    "\n",
    "# After training (train set)\n",
    "img, target = train_data[-112]\n",
    "target = target.squeeze(0).detach().numpy()\n",
    "out = torch.sigmoid(model(img.unsqueeze(0)))\n",
    "out = out.squeeze(0).squeeze(0).detach().numpy()\n",
    "out = thresholdProbMask(out)\n",
    "denoised = denoise(out)\n",
    "\n",
    "imshow(np.transpose(img.squeeze(0).detach().numpy(), [1,2,0]))\n",
    "imshow(target)\n",
    "imshow(out)\n",
    "imshow(denoised)"
   ]
  },
  {
   "cell_type": "code",
   "execution_count": null,
   "metadata": {},
   "outputs": [],
   "source": [
    "# After training (validation set)\n",
    "img, target = valid_data[-2]\n",
    "target = target.squeeze(0).detach().numpy()\n",
    "out = torch.sigmoid(model(img.unsqueeze(0)))\n",
    "out = out.squeeze(0).squeeze(0).detach().numpy()\n",
    "out = thresholdProbMask(out)\n",
    "denoised = denoise(out)\n",
    "\n",
    "imshow(np.transpose(img.squeeze(0).detach().numpy(), [1,2,0]))\n",
    "imshow(target)\n",
    "imshow(out)\n",
    "imshow(denoised)\n",
    "imshow(np.expand_dims(denoised,axis=3)*np.transpose(img.squeeze(0).detach().numpy(), [1,2,0]))"
   ]
  },
  {
   "cell_type": "code",
   "execution_count": null,
   "metadata": {},
   "outputs": [],
   "source": []
  }
 ],
 "metadata": {
  "accelerator": "GPU",
  "colab": {
   "collapsed_sections": [],
   "name": "train_resnet_try2.ipynb",
   "provenance": [],
   "version": "0.3.2"
  },
  "kernelspec": {
   "display_name": "Python 3",
   "language": "python",
   "name": "python3"
  },
  "language_info": {
   "codemirror_mode": {
    "name": "ipython",
    "version": 3
   },
   "file_extension": ".py",
   "mimetype": "text/x-python",
   "name": "python",
   "nbconvert_exporter": "python",
   "pygments_lexer": "ipython3",
   "version": "3.7.1"
  }
 },
 "nbformat": 4,
 "nbformat_minor": 1
}
